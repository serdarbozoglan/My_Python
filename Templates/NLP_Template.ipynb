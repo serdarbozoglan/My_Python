{
 "cells": [
  {
   "cell_type": "code",
   "execution_count": null,
   "metadata": {},
   "outputs": [],
   "source": [
    "import wikipedia\n",
    "import tensorflow as tf\n",
    "import tensorflow_hub as hub\n",
    "import numpy as np\n",
    "import pandas as pd\n",
    "from sklearn import model_selection\n",
    "from sklearn.preprocessing import LabelEncoder "
   ]
  },
  {
   "cell_type": "markdown",
   "metadata": {},
   "source": [
    "### Getting text from any language from wikipedia"
   ]
  },
  {
   "cell_type": "code",
   "execution_count": null,
   "metadata": {},
   "outputs": [],
   "source": [
    "new_wiki_text = []\n",
    "wikipedia.set_lang('tr')\n",
    "for i in range(0, 5):\n",
    "    print(i)\n",
    "    random = wikipedia.random(1)\n",
    "       \n",
    "    try:\n",
    "        new_wiki_text.append([wikipedia.page(random).summary])\n",
    "    except wikipedia.exceptions.DisambiguationError as e:\n",
    "        random = wikipedia.random(1)"
   ]
  },
  {
   "cell_type": "code",
   "execution_count": null,
   "metadata": {},
   "outputs": [],
   "source": [
    "new_wiki_text"
   ]
  },
  {
   "cell_type": "markdown",
   "metadata": {},
   "source": [
    "### LabelEncoding "
   ]
  },
  {
   "cell_type": "code",
   "execution_count": null,
   "metadata": {},
   "outputs": [],
   "source": [
    "Y = train_df['language'] # target column\n",
    "encoder = LabelEncoder()\n",
    "encoder.fit(Y)\n",
    "Y = encoder.transform(Y)\n",
    "Y = tf.keras.utils.to_categorical(Y, num_classes=4) #equals to the number of languages"
   ]
  },
  {
   "cell_type": "code",
   "execution_count": null,
   "metadata": {},
   "outputs": [],
   "source": [
    "train_df['sentence_lower'] = train_df[\"sentence\"].str.lower()\n",
    "train_df['sentence_no_punctuation'] = train_df['sentence_lower'].str.replace('[^\\w\\s]','')\n",
    "train_df['sentence_no_punctuation'] = train_df[\"sentence_no_punctuation\"].fillna(\"fillna\")"
   ]
  },
  {
   "cell_type": "code",
   "execution_count": null,
   "metadata": {},
   "outputs": [],
   "source": [
    "max_features = 5000 #we set maximum number of words to 5000\n",
    "maxlen = 400        #we set maximum sequence length to 400"
   ]
  },
  {
   "cell_type": "markdown",
   "metadata": {},
   "source": [
    "### Tokenization"
   ]
  },
  {
   "cell_type": "code",
   "execution_count": null,
   "metadata": {},
   "outputs": [],
   "source": [
    "tokens = tf.keras.preprocessing.text.Tokenizer(num_words=max_features) #again tokenizer step"
   ]
  },
  {
   "cell_type": "code",
   "execution_count": null,
   "metadata": {},
   "outputs": [],
   "source": [
    "tokens.fit_on_texts(list(train_df['sentence_no_punctuation'])) #fit to cleaned text ## FOR ONLY TRAINING DATA  "
   ]
  },
  {
   "cell_type": "code",
   "execution_count": null,
   "metadata": {},
   "outputs": [],
   "source": [
    "print(len(tokens.word_index))\n",
    "vocab_size = len(tokens.word_index) + 1  # +1 is for padding, 0 is assigned for padding\n",
    "#this represents the number of words that we tokenize different from max_features but necessary for\n",
    "#the definition of the dimension of the embedding space"
   ]
  },
  {
   "cell_type": "code",
   "execution_count": null,
   "metadata": {},
   "outputs": [],
   "source": [
    "train_df = tok.texts_to_sequences(list(train_df['sentence_no_punctuation'])) #this is how we create sequences\n",
    "train_df = tf.keras.preprocessing.sequence.pad_sequences(train_df, maxlen=maxlen) #let's execute pad step"
   ]
  },
  {
   "cell_type": "markdown",
   "metadata": {},
   "source": [
    "### Train-Test Split"
   ]
  },
  {
   "cell_type": "code",
   "execution_count": null,
   "metadata": {},
   "outputs": [],
   "source": [
    "from sklearn.model_selection import train_test_split #divide into train and test set\n",
    "X_train, X_test, y_train, y_test = train_test_split(train_df, Y, test_size=0.1, random_state=42)"
   ]
  },
  {
   "cell_type": "code",
   "execution_count": null,
   "metadata": {},
   "outputs": [],
   "source": [
    "embedding_dim = 50 #this is the final dimension of the embedding space."
   ]
  },
  {
   "cell_type": "code",
   "execution_count": null,
   "metadata": {},
   "outputs": [],
   "source": [
    "from keras.models import Sequential\n",
    "from keras.layers import Activation, Dense\n",
    "from keras.optimizers import SGD"
   ]
  },
  {
   "cell_type": "markdown",
   "metadata": {},
   "source": [
    "### Simple Model Architecture"
   ]
  },
  {
   "cell_type": "code",
   "execution_count": null,
   "metadata": {},
   "outputs": [],
   "source": [
    "### Longer definition\n",
    "\n",
    "model = tf.keras.models.Sequential([\n",
    "  tf.keras.layers.Embedding(input_dim=vocab_size, #embedding input\n",
    "                           output_dim=embedding_dim,#embedding output\n",
    "                           input_length=maxlen), #maximum length of an input sequence\n",
    "  tf.keras.layers.Flatten(), #flatten layer\n",
    "\n",
    "  tf.keras.layers.Dense(4, activation=tf.nn.softmax) #ouput layer a Dense layer with 4 probabilities\n",
    "  #we also define our final activation function which is the softmax function typical for multiclass\n",
    "  #classifiction problems\n",
    "\n",
    "])"
   ]
  },
  {
   "cell_type": "code",
   "execution_count": null,
   "metadata": {},
   "outputs": [],
   "source": [
    "### Shorter definition\n",
    "\n",
    "model = Sequential()\n",
    "model.add(Embedding(input_dim=vocab_size,      #embedding input\n",
    "                    output_dim=embedding_dim,  #embedding output\n",
    "                    input_length=maxlen),      #maximum length of an input sequence\n",
    "model.add(Flatten())\n",
    "model.add(Dense(4, activation=tf.nn.softmax))"
   ]
  },
  {
   "cell_type": "code",
   "execution_count": null,
   "metadata": {},
   "outputs": [],
   "source": [
    "model.compile(optimizer='adam',\n",
    "              loss='categorical_crossentropy', #we recommend this loss function you\n",
    "              metrics=['accuracy'])"
   ]
  },
  {
   "cell_type": "code",
   "execution_count": null,
   "metadata": {},
   "outputs": [],
   "source": [
    "model.summary() #here we show the architecture "
   ]
  },
  {
   "cell_type": "code",
   "execution_count": null,
   "metadata": {},
   "outputs": [],
   "source": [
    "model.fit(np.array(X_train), np.array(y_train), epochs=3) #let's fit the model"
   ]
  },
  {
   "cell_type": "markdown",
   "metadata": {},
   "source": [
    "### Evaluation"
   ]
  },
  {
   "cell_type": "code",
   "execution_count": null,
   "metadata": {},
   "outputs": [],
   "source": [
    "model.evaluate(np.array(X_test), np.array(y_test)) "
   ]
  },
  {
   "cell_type": "markdown",
   "metadata": {},
   "source": [
    "### Confusion Matrix"
   ]
  },
  {
   "cell_type": "code",
   "execution_count": null,
   "metadata": {},
   "outputs": [],
   "source": [
    "from sklearn.metrics import confusion_matrix #we import this package from sklearn and output it\n",
    "predictions = model.predict(X_test) #here we make predictions\n",
    "cm = confusion_matrix(predictions.argmax(axis=1), y_test.argmax(axis=1))#we generate the confusion matrix"
   ]
  },
  {
   "cell_type": "markdown",
   "metadata": {},
   "source": [
    "### Testing with Brand New Data"
   ]
  },
  {
   "cell_type": "code",
   "execution_count": null,
   "metadata": {},
   "outputs": [],
   "source": [
    "new_text = [\"tensorflow es una gran herramienta puedes encontrar muchos tutoriales de packt\"]"
   ]
  },
  {
   "cell_type": "code",
   "execution_count": null,
   "metadata": {},
   "outputs": [],
   "source": [
    "test_text = tok.texts_to_sequences(new_text) #this is how we create sequences\n",
    "test_text = tf.keras.preprocessing.sequence.pad_sequences(test_text, maxlen=maxlen) #let's execute pad step"
   ]
  },
  {
   "cell_type": "code",
   "execution_count": null,
   "metadata": {},
   "outputs": [],
   "source": [
    "np.set_printoptions(suppress=True)\n",
    "predictions = model.predict(test_text)\n",
    "print(predictions.argmax())\n",
    "print(predictions) #spanish you can get confused with italian which makes sense since they are more similar languages"
   ]
  },
  {
   "cell_type": "markdown",
   "metadata": {},
   "source": [
    "## TOKENIZATION TRICK"
   ]
  },
  {
   "cell_type": "markdown",
   "metadata": {},
   "source": [
    "For this you add a OOV (out-of-vocabulary) token in your vocabulary. This will be used whenever you don’t find a word in your vocabulary. "
   ]
  },
  {
   "cell_type": "code",
   "execution_count": null,
   "metadata": {},
   "outputs": [],
   "source": [
    "import keras.preprocessing.text as kpt"
   ]
  },
  {
   "cell_type": "code",
   "execution_count": 19,
   "metadata": {},
   "outputs": [
    {
     "name": "stdout",
     "output_type": "stream",
     "text": [
      "{'UNK': 1, 'name': 2, 'is': 3, 'my': 4, 'far': 5, 'faraway': 6, 'asdasd': 7, 'your': 8}\n",
      "[[1, 2, 1, 1, 1, 1], [1, 2, 1], [1, 2, 1]]\n",
      "{'UNK': 4, 'name': 2, 'is': 3}\n",
      "[[4, 2, 4, 4, 4, 4], [4, 2, 4], [4, 2, 4]]\n"
     ]
    }
   ],
   "source": [
    "num_words = 3\n",
    "tk = kpt.Tokenizer(oov_token='UNK', num_words=num_words)\n",
    "texts = [\"my name is far faraway asdasd\", \"my name is\", \"your name is\"]\n",
    "tk.fit_on_texts(texts)\n",
    "print(tk.word_index)\n",
    "print(tk.texts_to_sequences(texts))\n",
    "tk.word_index = {key:value for key, value in tk.word_index.items() if value <= num_words} # <= because tokenizer is 1 indexed\n",
    "tk.word_index[tk.oov_token] = num_words + 1\n",
    "print(tk.word_index)\n",
    "print(tk.texts_to_sequences(texts))"
   ]
  },
  {
   "cell_type": "code",
   "execution_count": 20,
   "metadata": {},
   "outputs": [
    {
     "data": {
      "text/plain": [
       "4"
      ]
     },
     "execution_count": 20,
     "metadata": {},
     "output_type": "execute_result"
    }
   ],
   "source": [
    "tk.word_index['UNK']"
   ]
  },
  {
   "cell_type": "markdown",
   "metadata": {},
   "source": [
    "#{'your': 7, 'my': 3, 'name': 1, 'far': 4, 'faraway': 5, 'is': 2, 'UNK': 8, 'asdasd': 6} \n",
    "#[[3, 1, 2], [3, 1, 2], [1, 2]]  ## Wrong Behavior. Should not drop OOVs\n",
    "\n",
    "#{'name': 1, 'my': 3, 'is': 2, 'UNK': 4}\n",
    "#[[3, 1, 2, 4, 4, 4], [3, 1, 2], [4, 1, 2]] ## Correct behavior"
   ]
  },
  {
   "cell_type": "markdown",
   "metadata": {},
   "source": [
    "### Burada bir problem var, normalde oov_token'in son kelime olarak dictionary'e eklenmesi lazim\n",
    "\n",
    "### Ama benim kodda ilk kelime olarak ekleniyor ve aslinda benim sozlugumdeki kelimelerin indexi 2'den basliyor."
   ]
  },
  {
   "cell_type": "code",
   "execution_count": null,
   "metadata": {},
   "outputs": [],
   "source": []
  }
 ],
 "metadata": {
  "kernelspec": {
   "display_name": "Python 3",
   "language": "python",
   "name": "python3"
  },
  "language_info": {
   "codemirror_mode": {
    "name": "ipython",
    "version": 3
   },
   "file_extension": ".py",
   "mimetype": "text/x-python",
   "name": "python",
   "nbconvert_exporter": "python",
   "pygments_lexer": "ipython3",
   "version": "3.7.3"
  }
 },
 "nbformat": 4,
 "nbformat_minor": 2
}
