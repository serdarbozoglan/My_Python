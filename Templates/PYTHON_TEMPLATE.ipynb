{
 "cells": [
  {
   "cell_type": "code",
   "execution_count": null,
   "metadata": {},
   "outputs": [],
   "source": [
    "import pandas as pd\n",
    "import numpy as np\n",
    "import matplotlib.pyplot as plt\n",
    "import seaborn as sns\n",
    "import warnings\n",
    "\n",
    "\n",
    "# NLP\n",
    "import contractions\n",
    "from string import punctuation\n",
    "from nltk.stem import SnowballStemmer\n",
    "from nltk.corpus import stopwords\n",
    "%matplotlib inline"
   ]
  },
  {
   "cell_type": "markdown",
   "metadata": {},
   "source": [
    "### Importing an image"
   ]
  },
  {
   "cell_type": "code",
   "execution_count": null,
   "metadata": {},
   "outputs": [],
   "source": [
    "from IPython.display import Image\n",
    "Image(\"crosstab_cheatsheet.png\")"
   ]
  },
  {
   "cell_type": "code",
   "execution_count": null,
   "metadata": {},
   "outputs": [],
   "source": [
    "# Jupyter \"magic methods\" -- only need to be run once per kernel restart\n",
    "%load_ext autoreload\n",
    "%aimport helpers, tests\n",
    "%autoreload 1"
   ]
  },
  {
   "cell_type": "markdown",
   "metadata": {},
   "source": [
    "### IGNORING WARNINGS"
   ]
  },
  {
   "cell_type": "code",
   "execution_count": 136,
   "metadata": {},
   "outputs": [],
   "source": [
    "warnings.filterwarnings('ignore')"
   ]
  },
  {
   "cell_type": "code",
   "execution_count": null,
   "metadata": {},
   "outputs": [],
   "source": [
    "## Running Jupyter Notebook without token \n",
    "\n",
    "jupyter notebook --ip='*' --NotebookApp.token='' --NotebookApp.password=''"
   ]
  },
  {
   "cell_type": "code",
   "execution_count": null,
   "metadata": {},
   "outputs": [],
   "source": [
    "from IPython.core.interactiveshell import InteractiveShell\n",
    "InteractiveShell.ast_node_interactivity = \"all\"\n",
    "\n",
    "## we can see multiple statements at once"
   ]
  },
  {
   "cell_type": "code",
   "execution_count": 4,
   "metadata": {},
   "outputs": [
    {
     "name": "stdout",
     "output_type": "stream",
     "text": [
      "Object `pd.DataFrame()` not found.\n"
     ]
    }
   ],
   "source": [
    "?pd.DataFrame()"
   ]
  },
  {
   "cell_type": "code",
   "execution_count": 9,
   "metadata": {},
   "outputs": [
    {
     "data": {
      "text/html": [
       "<div class=\"alert alert-block alert-success\">Your emission counts look good!</div>"
      ],
      "text/plain": [
       "<IPython.core.display.HTML object>"
      ]
     },
     "execution_count": 9,
     "metadata": {},
     "output_type": "execute_result"
    }
   ],
   "source": [
    "from IPython.core.display import HTML\n",
    "HTML('<div class=\"alert alert-block alert-success\">Your emission counts look good!</div>')"
   ]
  },
  {
   "cell_type": "code",
   "execution_count": 10,
   "metadata": {},
   "outputs": [
    {
     "data": {
      "text/html": [
       "<div class=\"alert alert-block alert-success\"><b>Your emission counts look good!</div></b>"
      ],
      "text/plain": [
       "<IPython.core.display.HTML object>"
      ]
     },
     "execution_count": 10,
     "metadata": {},
     "output_type": "execute_result"
    }
   ],
   "source": [
    "HTML('<div class=\"alert alert-block alert-success\"><b>Your emission counts look good!</div></b>')"
   ]
  },
  {
   "cell_type": "code",
   "execution_count": 4,
   "metadata": {},
   "outputs": [],
   "source": [
    "## with markdown"
   ]
  },
  {
   "cell_type": "markdown",
   "metadata": {},
   "source": [
    "### <div class=\"alert alert-block alert-success\">Your emission counts look good!"
   ]
  },
  {
   "cell_type": "code",
   "execution_count": null,
   "metadata": {},
   "outputs": [],
   "source": [
    "df = pd.read_csv('spam.csv', encoding='ISO-8859-1')\n",
    "# to get rid of invalid chars we use ISA-8859-1"
   ]
  },
  {
   "cell_type": "code",
   "execution_count": null,
   "metadata": {},
   "outputs": [],
   "source": [
    "df = pd.read_csv(url, error_bad_lines=False)\n",
    "## get rid of bad lines"
   ]
  },
  {
   "cell_type": "code",
   "execution_count": null,
   "metadata": {},
   "outputs": [],
   "source": [
    "## use .values for y\n",
    "y = df['label'].values"
   ]
  },
  {
   "cell_type": "markdown",
   "metadata": {},
   "source": [
    "### Reading File Names"
   ]
  },
  {
   "cell_type": "code",
   "execution_count": null,
   "metadata": {},
   "outputs": [],
   "source": [
    "import pandas as pd\n",
    "from pathlib import Path\n",
    "import time\n",
    "\n",
    "p = Path(\"./example_files\")\n",
    "all_files = []\n",
    "for i in p.rglob('*.*'):\n",
    "    all_files.append((i.name, i.parent, time.ctime(i.stat().st_ctime)))\n",
    "\n",
    "columns = [\"File_Name\", \"Parent\", \"Created\"]\n",
    "df = pd.DataFrame.from_records(all_files, columns=columns)\n",
    "\n",
    "df.head()\n"
   ]
  },
  {
   "cell_type": "code",
   "execution_count": 115,
   "metadata": {},
   "outputs": [],
   "source": [
    "df_raw = pd.read_csv(\"http://mlr.cs.umass.edu/ml/machine-learning-databases/autos/imports-85.data\",\n",
    "                     header=None, names=headers, na_values=\"?\" )"
   ]
  },
  {
   "cell_type": "code",
   "execution_count": 117,
   "metadata": {},
   "outputs": [],
   "source": [
    "models = [\"toyota\",\"nissan\",\"mazda\", \"honda\", \"mitsubishi\", \"subaru\", \"volkswagen\", \"volvo\"]\n",
    "df = df_raw[df_raw.make.isin(models)].copy()"
   ]
  },
  {
   "cell_type": "code",
   "execution_count": 119,
   "metadata": {},
   "outputs": [
    {
     "data": {
      "text/html": [
       "<div>\n",
       "<style scoped>\n",
       "    .dataframe tbody tr th:only-of-type {\n",
       "        vertical-align: middle;\n",
       "    }\n",
       "\n",
       "    .dataframe tbody tr th {\n",
       "        vertical-align: top;\n",
       "    }\n",
       "\n",
       "    .dataframe thead th {\n",
       "        text-align: right;\n",
       "    }\n",
       "</style>\n",
       "<table border=\"1\" class=\"dataframe\">\n",
       "  <thead>\n",
       "    <tr style=\"text-align: right;\">\n",
       "      <th></th>\n",
       "      <th>symboling</th>\n",
       "      <th>normalized-losses</th>\n",
       "      <th>make</th>\n",
       "      <th>fuel-type</th>\n",
       "      <th>aspiration</th>\n",
       "      <th>num-of-doors</th>\n",
       "      <th>body-style</th>\n",
       "      <th>drive-wheels</th>\n",
       "      <th>engine-location</th>\n",
       "      <th>wheel-base</th>\n",
       "      <th>...</th>\n",
       "      <th>engine-size</th>\n",
       "      <th>fuel-system</th>\n",
       "      <th>bore</th>\n",
       "      <th>stroke</th>\n",
       "      <th>compression-ratio</th>\n",
       "      <th>horsepower</th>\n",
       "      <th>peak-rpm</th>\n",
       "      <th>city-mpg</th>\n",
       "      <th>highway-mpg</th>\n",
       "      <th>price</th>\n",
       "    </tr>\n",
       "  </thead>\n",
       "  <tbody>\n",
       "    <tr>\n",
       "      <th>30</th>\n",
       "      <td>2</td>\n",
       "      <td>137.0</td>\n",
       "      <td>honda</td>\n",
       "      <td>gas</td>\n",
       "      <td>std</td>\n",
       "      <td>two</td>\n",
       "      <td>hatchback</td>\n",
       "      <td>fwd</td>\n",
       "      <td>front</td>\n",
       "      <td>86.6</td>\n",
       "      <td>...</td>\n",
       "      <td>92</td>\n",
       "      <td>1bbl</td>\n",
       "      <td>2.91</td>\n",
       "      <td>3.41</td>\n",
       "      <td>9.6</td>\n",
       "      <td>58.0</td>\n",
       "      <td>4800.0</td>\n",
       "      <td>49</td>\n",
       "      <td>54</td>\n",
       "      <td>6479.0</td>\n",
       "    </tr>\n",
       "    <tr>\n",
       "      <th>31</th>\n",
       "      <td>2</td>\n",
       "      <td>137.0</td>\n",
       "      <td>honda</td>\n",
       "      <td>gas</td>\n",
       "      <td>std</td>\n",
       "      <td>two</td>\n",
       "      <td>hatchback</td>\n",
       "      <td>fwd</td>\n",
       "      <td>front</td>\n",
       "      <td>86.6</td>\n",
       "      <td>...</td>\n",
       "      <td>92</td>\n",
       "      <td>1bbl</td>\n",
       "      <td>2.91</td>\n",
       "      <td>3.41</td>\n",
       "      <td>9.2</td>\n",
       "      <td>76.0</td>\n",
       "      <td>6000.0</td>\n",
       "      <td>31</td>\n",
       "      <td>38</td>\n",
       "      <td>6855.0</td>\n",
       "    </tr>\n",
       "    <tr>\n",
       "      <th>32</th>\n",
       "      <td>1</td>\n",
       "      <td>101.0</td>\n",
       "      <td>honda</td>\n",
       "      <td>gas</td>\n",
       "      <td>std</td>\n",
       "      <td>two</td>\n",
       "      <td>hatchback</td>\n",
       "      <td>fwd</td>\n",
       "      <td>front</td>\n",
       "      <td>93.7</td>\n",
       "      <td>...</td>\n",
       "      <td>79</td>\n",
       "      <td>1bbl</td>\n",
       "      <td>2.91</td>\n",
       "      <td>3.07</td>\n",
       "      <td>10.1</td>\n",
       "      <td>60.0</td>\n",
       "      <td>5500.0</td>\n",
       "      <td>38</td>\n",
       "      <td>42</td>\n",
       "      <td>5399.0</td>\n",
       "    </tr>\n",
       "    <tr>\n",
       "      <th>33</th>\n",
       "      <td>1</td>\n",
       "      <td>101.0</td>\n",
       "      <td>honda</td>\n",
       "      <td>gas</td>\n",
       "      <td>std</td>\n",
       "      <td>two</td>\n",
       "      <td>hatchback</td>\n",
       "      <td>fwd</td>\n",
       "      <td>front</td>\n",
       "      <td>93.7</td>\n",
       "      <td>...</td>\n",
       "      <td>92</td>\n",
       "      <td>1bbl</td>\n",
       "      <td>2.91</td>\n",
       "      <td>3.41</td>\n",
       "      <td>9.2</td>\n",
       "      <td>76.0</td>\n",
       "      <td>6000.0</td>\n",
       "      <td>30</td>\n",
       "      <td>34</td>\n",
       "      <td>6529.0</td>\n",
       "    </tr>\n",
       "    <tr>\n",
       "      <th>34</th>\n",
       "      <td>1</td>\n",
       "      <td>101.0</td>\n",
       "      <td>honda</td>\n",
       "      <td>gas</td>\n",
       "      <td>std</td>\n",
       "      <td>two</td>\n",
       "      <td>hatchback</td>\n",
       "      <td>fwd</td>\n",
       "      <td>front</td>\n",
       "      <td>93.7</td>\n",
       "      <td>...</td>\n",
       "      <td>92</td>\n",
       "      <td>1bbl</td>\n",
       "      <td>2.91</td>\n",
       "      <td>3.41</td>\n",
       "      <td>9.2</td>\n",
       "      <td>76.0</td>\n",
       "      <td>6000.0</td>\n",
       "      <td>30</td>\n",
       "      <td>34</td>\n",
       "      <td>7129.0</td>\n",
       "    </tr>\n",
       "  </tbody>\n",
       "</table>\n",
       "<p>5 rows × 26 columns</p>\n",
       "</div>"
      ],
      "text/plain": [
       "    symboling  normalized-losses   make fuel-type aspiration num-of-doors  \\\n",
       "30          2              137.0  honda       gas        std          two   \n",
       "31          2              137.0  honda       gas        std          two   \n",
       "32          1              101.0  honda       gas        std          two   \n",
       "33          1              101.0  honda       gas        std          two   \n",
       "34          1              101.0  honda       gas        std          two   \n",
       "\n",
       "   body-style drive-wheels engine-location  wheel-base  ...  engine-size  \\\n",
       "30  hatchback          fwd           front        86.6  ...           92   \n",
       "31  hatchback          fwd           front        86.6  ...           92   \n",
       "32  hatchback          fwd           front        93.7  ...           79   \n",
       "33  hatchback          fwd           front        93.7  ...           92   \n",
       "34  hatchback          fwd           front        93.7  ...           92   \n",
       "\n",
       "    fuel-system  bore  stroke compression-ratio horsepower  peak-rpm city-mpg  \\\n",
       "30         1bbl  2.91    3.41               9.6       58.0    4800.0       49   \n",
       "31         1bbl  2.91    3.41               9.2       76.0    6000.0       31   \n",
       "32         1bbl  2.91    3.07              10.1       60.0    5500.0       38   \n",
       "33         1bbl  2.91    3.41               9.2       76.0    6000.0       30   \n",
       "34         1bbl  2.91    3.41               9.2       76.0    6000.0       30   \n",
       "\n",
       "    highway-mpg   price  \n",
       "30           54  6479.0  \n",
       "31           38  6855.0  \n",
       "32           42  5399.0  \n",
       "33           34  6529.0  \n",
       "34           34  7129.0  \n",
       "\n",
       "[5 rows x 26 columns]"
      ]
     },
     "execution_count": 119,
     "metadata": {},
     "output_type": "execute_result"
    }
   ],
   "source": [
    "df.head()"
   ]
  },
  {
   "cell_type": "markdown",
   "metadata": {},
   "source": [
    "### query()"
   ]
  },
  {
   "cell_type": "code",
   "execution_count": 121,
   "metadata": {},
   "outputs": [
    {
     "data": {
      "text/html": [
       "<div>\n",
       "<style scoped>\n",
       "    .dataframe tbody tr th:only-of-type {\n",
       "        vertical-align: middle;\n",
       "    }\n",
       "\n",
       "    .dataframe tbody tr th {\n",
       "        vertical-align: top;\n",
       "    }\n",
       "\n",
       "    .dataframe thead th {\n",
       "        text-align: right;\n",
       "    }\n",
       "</style>\n",
       "<table border=\"1\" class=\"dataframe\">\n",
       "  <thead>\n",
       "    <tr style=\"text-align: right;\">\n",
       "      <th></th>\n",
       "      <th>symboling</th>\n",
       "      <th>normalized-losses</th>\n",
       "      <th>make</th>\n",
       "      <th>fuel-type</th>\n",
       "      <th>aspiration</th>\n",
       "      <th>num-of-doors</th>\n",
       "      <th>body-style</th>\n",
       "      <th>drive-wheels</th>\n",
       "      <th>engine-location</th>\n",
       "      <th>wheel-base</th>\n",
       "      <th>...</th>\n",
       "      <th>engine-size</th>\n",
       "      <th>fuel-system</th>\n",
       "      <th>bore</th>\n",
       "      <th>stroke</th>\n",
       "      <th>compression-ratio</th>\n",
       "      <th>horsepower</th>\n",
       "      <th>peak-rpm</th>\n",
       "      <th>city-mpg</th>\n",
       "      <th>highway-mpg</th>\n",
       "      <th>price</th>\n",
       "    </tr>\n",
       "  </thead>\n",
       "  <tbody>\n",
       "    <tr>\n",
       "      <th>30</th>\n",
       "      <td>2</td>\n",
       "      <td>137.0</td>\n",
       "      <td>honda</td>\n",
       "      <td>gas</td>\n",
       "      <td>std</td>\n",
       "      <td>two</td>\n",
       "      <td>hatchback</td>\n",
       "      <td>fwd</td>\n",
       "      <td>front</td>\n",
       "      <td>86.6</td>\n",
       "      <td>...</td>\n",
       "      <td>92</td>\n",
       "      <td>1bbl</td>\n",
       "      <td>2.91</td>\n",
       "      <td>3.41</td>\n",
       "      <td>9.6</td>\n",
       "      <td>58.0</td>\n",
       "      <td>4800.0</td>\n",
       "      <td>49</td>\n",
       "      <td>54</td>\n",
       "      <td>6479.0</td>\n",
       "    </tr>\n",
       "    <tr>\n",
       "      <th>31</th>\n",
       "      <td>2</td>\n",
       "      <td>137.0</td>\n",
       "      <td>honda</td>\n",
       "      <td>gas</td>\n",
       "      <td>std</td>\n",
       "      <td>two</td>\n",
       "      <td>hatchback</td>\n",
       "      <td>fwd</td>\n",
       "      <td>front</td>\n",
       "      <td>86.6</td>\n",
       "      <td>...</td>\n",
       "      <td>92</td>\n",
       "      <td>1bbl</td>\n",
       "      <td>2.91</td>\n",
       "      <td>3.41</td>\n",
       "      <td>9.2</td>\n",
       "      <td>76.0</td>\n",
       "      <td>6000.0</td>\n",
       "      <td>31</td>\n",
       "      <td>38</td>\n",
       "      <td>6855.0</td>\n",
       "    </tr>\n",
       "  </tbody>\n",
       "</table>\n",
       "<p>2 rows × 26 columns</p>\n",
       "</div>"
      ],
      "text/plain": [
       "    symboling  normalized-losses   make fuel-type aspiration num-of-doors  \\\n",
       "30          2              137.0  honda       gas        std          two   \n",
       "31          2              137.0  honda       gas        std          two   \n",
       "\n",
       "   body-style drive-wheels engine-location  wheel-base  ...  engine-size  \\\n",
       "30  hatchback          fwd           front        86.6  ...           92   \n",
       "31  hatchback          fwd           front        86.6  ...           92   \n",
       "\n",
       "    fuel-system  bore  stroke compression-ratio horsepower  peak-rpm city-mpg  \\\n",
       "30         1bbl  2.91    3.41               9.6       58.0    4800.0       49   \n",
       "31         1bbl  2.91    3.41               9.2       76.0    6000.0       31   \n",
       "\n",
       "    highway-mpg   price  \n",
       "30           54  6479.0  \n",
       "31           38  6855.0  \n",
       "\n",
       "[2 rows x 26 columns]"
      ]
     },
     "execution_count": 121,
     "metadata": {},
     "output_type": "execute_result"
    }
   ],
   "source": [
    "df.query('symboling==2 & make==\"honda\"') ## tirnak isaretlierine dikkat"
   ]
  },
  {
   "cell_type": "markdown",
   "metadata": {},
   "source": [
    "### prettypandas"
   ]
  },
  {
   "cell_type": "code",
   "execution_count": 133,
   "metadata": {},
   "outputs": [],
   "source": [
    "import prettypandas as pp\n",
    "mini_df = df.query('make==\"honda\" & bore==2.91')"
   ]
  },
  {
   "cell_type": "code",
   "execution_count": 134,
   "metadata": {},
   "outputs": [
    {
     "data": {
      "text/html": [
       "<div>\n",
       "<style scoped>\n",
       "    .dataframe tbody tr th:only-of-type {\n",
       "        vertical-align: middle;\n",
       "    }\n",
       "\n",
       "    .dataframe tbody tr th {\n",
       "        vertical-align: top;\n",
       "    }\n",
       "\n",
       "    .dataframe thead th {\n",
       "        text-align: right;\n",
       "    }\n",
       "</style>\n",
       "<table border=\"1\" class=\"dataframe\">\n",
       "  <thead>\n",
       "    <tr style=\"text-align: right;\">\n",
       "      <th></th>\n",
       "      <th>symboling</th>\n",
       "      <th>normalized-losses</th>\n",
       "      <th>make</th>\n",
       "      <th>fuel-type</th>\n",
       "      <th>aspiration</th>\n",
       "      <th>num-of-doors</th>\n",
       "      <th>body-style</th>\n",
       "      <th>drive-wheels</th>\n",
       "      <th>engine-location</th>\n",
       "      <th>wheel-base</th>\n",
       "      <th>...</th>\n",
       "      <th>engine-size</th>\n",
       "      <th>fuel-system</th>\n",
       "      <th>bore</th>\n",
       "      <th>stroke</th>\n",
       "      <th>compression-ratio</th>\n",
       "      <th>horsepower</th>\n",
       "      <th>peak-rpm</th>\n",
       "      <th>city-mpg</th>\n",
       "      <th>highway-mpg</th>\n",
       "      <th>price</th>\n",
       "    </tr>\n",
       "  </thead>\n",
       "  <tbody>\n",
       "    <tr>\n",
       "      <th>30</th>\n",
       "      <td>2</td>\n",
       "      <td>137.0</td>\n",
       "      <td>honda</td>\n",
       "      <td>gas</td>\n",
       "      <td>std</td>\n",
       "      <td>two</td>\n",
       "      <td>hatchback</td>\n",
       "      <td>fwd</td>\n",
       "      <td>front</td>\n",
       "      <td>86.6</td>\n",
       "      <td>...</td>\n",
       "      <td>92</td>\n",
       "      <td>1bbl</td>\n",
       "      <td>2.91</td>\n",
       "      <td>3.41</td>\n",
       "      <td>9.6</td>\n",
       "      <td>58.0</td>\n",
       "      <td>4800.0</td>\n",
       "      <td>49</td>\n",
       "      <td>54</td>\n",
       "      <td>6479.0</td>\n",
       "    </tr>\n",
       "    <tr>\n",
       "      <th>31</th>\n",
       "      <td>2</td>\n",
       "      <td>137.0</td>\n",
       "      <td>honda</td>\n",
       "      <td>gas</td>\n",
       "      <td>std</td>\n",
       "      <td>two</td>\n",
       "      <td>hatchback</td>\n",
       "      <td>fwd</td>\n",
       "      <td>front</td>\n",
       "      <td>86.6</td>\n",
       "      <td>...</td>\n",
       "      <td>92</td>\n",
       "      <td>1bbl</td>\n",
       "      <td>2.91</td>\n",
       "      <td>3.41</td>\n",
       "      <td>9.2</td>\n",
       "      <td>76.0</td>\n",
       "      <td>6000.0</td>\n",
       "      <td>31</td>\n",
       "      <td>38</td>\n",
       "      <td>6855.0</td>\n",
       "    </tr>\n",
       "    <tr>\n",
       "      <th>32</th>\n",
       "      <td>1</td>\n",
       "      <td>101.0</td>\n",
       "      <td>honda</td>\n",
       "      <td>gas</td>\n",
       "      <td>std</td>\n",
       "      <td>two</td>\n",
       "      <td>hatchback</td>\n",
       "      <td>fwd</td>\n",
       "      <td>front</td>\n",
       "      <td>93.7</td>\n",
       "      <td>...</td>\n",
       "      <td>79</td>\n",
       "      <td>1bbl</td>\n",
       "      <td>2.91</td>\n",
       "      <td>3.07</td>\n",
       "      <td>10.1</td>\n",
       "      <td>60.0</td>\n",
       "      <td>5500.0</td>\n",
       "      <td>38</td>\n",
       "      <td>42</td>\n",
       "      <td>5399.0</td>\n",
       "    </tr>\n",
       "    <tr>\n",
       "      <th>33</th>\n",
       "      <td>1</td>\n",
       "      <td>101.0</td>\n",
       "      <td>honda</td>\n",
       "      <td>gas</td>\n",
       "      <td>std</td>\n",
       "      <td>two</td>\n",
       "      <td>hatchback</td>\n",
       "      <td>fwd</td>\n",
       "      <td>front</td>\n",
       "      <td>93.7</td>\n",
       "      <td>...</td>\n",
       "      <td>92</td>\n",
       "      <td>1bbl</td>\n",
       "      <td>2.91</td>\n",
       "      <td>3.41</td>\n",
       "      <td>9.2</td>\n",
       "      <td>76.0</td>\n",
       "      <td>6000.0</td>\n",
       "      <td>30</td>\n",
       "      <td>34</td>\n",
       "      <td>6529.0</td>\n",
       "    </tr>\n",
       "    <tr>\n",
       "      <th>34</th>\n",
       "      <td>1</td>\n",
       "      <td>101.0</td>\n",
       "      <td>honda</td>\n",
       "      <td>gas</td>\n",
       "      <td>std</td>\n",
       "      <td>two</td>\n",
       "      <td>hatchback</td>\n",
       "      <td>fwd</td>\n",
       "      <td>front</td>\n",
       "      <td>93.7</td>\n",
       "      <td>...</td>\n",
       "      <td>92</td>\n",
       "      <td>1bbl</td>\n",
       "      <td>2.91</td>\n",
       "      <td>3.41</td>\n",
       "      <td>9.2</td>\n",
       "      <td>76.0</td>\n",
       "      <td>6000.0</td>\n",
       "      <td>30</td>\n",
       "      <td>34</td>\n",
       "      <td>7129.0</td>\n",
       "    </tr>\n",
       "    <tr>\n",
       "      <th>35</th>\n",
       "      <td>0</td>\n",
       "      <td>110.0</td>\n",
       "      <td>honda</td>\n",
       "      <td>gas</td>\n",
       "      <td>std</td>\n",
       "      <td>four</td>\n",
       "      <td>sedan</td>\n",
       "      <td>fwd</td>\n",
       "      <td>front</td>\n",
       "      <td>96.5</td>\n",
       "      <td>...</td>\n",
       "      <td>92</td>\n",
       "      <td>1bbl</td>\n",
       "      <td>2.91</td>\n",
       "      <td>3.41</td>\n",
       "      <td>9.2</td>\n",
       "      <td>76.0</td>\n",
       "      <td>6000.0</td>\n",
       "      <td>30</td>\n",
       "      <td>34</td>\n",
       "      <td>7295.0</td>\n",
       "    </tr>\n",
       "  </tbody>\n",
       "</table>\n",
       "<p>6 rows × 26 columns</p>\n",
       "</div>"
      ],
      "text/plain": [
       "    symboling  normalized-losses   make fuel-type aspiration num-of-doors  \\\n",
       "30          2              137.0  honda       gas        std          two   \n",
       "31          2              137.0  honda       gas        std          two   \n",
       "32          1              101.0  honda       gas        std          two   \n",
       "33          1              101.0  honda       gas        std          two   \n",
       "34          1              101.0  honda       gas        std          two   \n",
       "35          0              110.0  honda       gas        std         four   \n",
       "\n",
       "   body-style drive-wheels engine-location  wheel-base  ...  engine-size  \\\n",
       "30  hatchback          fwd           front        86.6  ...           92   \n",
       "31  hatchback          fwd           front        86.6  ...           92   \n",
       "32  hatchback          fwd           front        93.7  ...           79   \n",
       "33  hatchback          fwd           front        93.7  ...           92   \n",
       "34  hatchback          fwd           front        93.7  ...           92   \n",
       "35      sedan          fwd           front        96.5  ...           92   \n",
       "\n",
       "    fuel-system  bore  stroke compression-ratio horsepower  peak-rpm city-mpg  \\\n",
       "30         1bbl  2.91    3.41               9.6       58.0    4800.0       49   \n",
       "31         1bbl  2.91    3.41               9.2       76.0    6000.0       31   \n",
       "32         1bbl  2.91    3.07              10.1       60.0    5500.0       38   \n",
       "33         1bbl  2.91    3.41               9.2       76.0    6000.0       30   \n",
       "34         1bbl  2.91    3.41               9.2       76.0    6000.0       30   \n",
       "35         1bbl  2.91    3.41               9.2       76.0    6000.0       30   \n",
       "\n",
       "    highway-mpg   price  \n",
       "30           54  6479.0  \n",
       "31           38  6855.0  \n",
       "32           42  5399.0  \n",
       "33           34  6529.0  \n",
       "34           34  7129.0  \n",
       "35           34  7295.0  \n",
       "\n",
       "[6 rows x 26 columns]"
      ]
     },
     "execution_count": 134,
     "metadata": {},
     "output_type": "execute_result"
    }
   ],
   "source": [
    "mini_df"
   ]
  },
  {
   "cell_type": "code",
   "execution_count": 137,
   "metadata": {},
   "outputs": [
    {
     "data": {
      "text/html": [
       "<style  type=\"text/css\" >\n",
       "    #T_9e6809f2_b020_11e9_ae83_a8be27d0a728row0_col0 {\n",
       "            background-color:  #023858;\n",
       "            color:  #f1f1f1;\n",
       "        }    #T_9e6809f2_b020_11e9_ae83_a8be27d0a728row0_col1 {\n",
       "            background-color:  #023858;\n",
       "            color:  #f1f1f1;\n",
       "        }    #T_9e6809f2_b020_11e9_ae83_a8be27d0a728row0_col9 {\n",
       "            background-color:  #fff7fb;\n",
       "            color:  #000000;\n",
       "        }    #T_9e6809f2_b020_11e9_ae83_a8be27d0a728row0_col10 {\n",
       "            background-color:  #fff7fb;\n",
       "            color:  #000000;\n",
       "        }    #T_9e6809f2_b020_11e9_ae83_a8be27d0a728row0_col11 {\n",
       "            background-color:  #fff7fb;\n",
       "            color:  #000000;\n",
       "        }    #T_9e6809f2_b020_11e9_ae83_a8be27d0a728row0_col12 {\n",
       "            background-color:  #fff7fb;\n",
       "            color:  #000000;\n",
       "        }    #T_9e6809f2_b020_11e9_ae83_a8be27d0a728row0_col13 {\n",
       "            background-color:  #fff7fb;\n",
       "            color:  #000000;\n",
       "        }    #T_9e6809f2_b020_11e9_ae83_a8be27d0a728row0_col16 {\n",
       "            background-color:  #023858;\n",
       "            color:  #f1f1f1;\n",
       "        }    #T_9e6809f2_b020_11e9_ae83_a8be27d0a728row0_col18 {\n",
       "            background-color:  #fff7fb;\n",
       "            color:  #000000;\n",
       "        }    #T_9e6809f2_b020_11e9_ae83_a8be27d0a728row0_col19 {\n",
       "            background-color:  #023858;\n",
       "            color:  #f1f1f1;\n",
       "        }    #T_9e6809f2_b020_11e9_ae83_a8be27d0a728row0_col20 {\n",
       "            background-color:  #8bb2d4;\n",
       "            color:  #000000;\n",
       "        }    #T_9e6809f2_b020_11e9_ae83_a8be27d0a728row0_col21 {\n",
       "            background-color:  #fff7fb;\n",
       "            color:  #000000;\n",
       "        }    #T_9e6809f2_b020_11e9_ae83_a8be27d0a728row0_col22 {\n",
       "            background-color:  #fff7fb;\n",
       "            color:  #000000;\n",
       "        }    #T_9e6809f2_b020_11e9_ae83_a8be27d0a728row0_col23 {\n",
       "            background-color:  #023858;\n",
       "            color:  #f1f1f1;\n",
       "        }    #T_9e6809f2_b020_11e9_ae83_a8be27d0a728row0_col24 {\n",
       "            background-color:  #023858;\n",
       "            color:  #f1f1f1;\n",
       "        }    #T_9e6809f2_b020_11e9_ae83_a8be27d0a728row0_col25 {\n",
       "            background-color:  #529bc7;\n",
       "            color:  #000000;\n",
       "        }    #T_9e6809f2_b020_11e9_ae83_a8be27d0a728row1_col0 {\n",
       "            background-color:  #023858;\n",
       "            color:  #f1f1f1;\n",
       "        }    #T_9e6809f2_b020_11e9_ae83_a8be27d0a728row1_col1 {\n",
       "            background-color:  #023858;\n",
       "            color:  #f1f1f1;\n",
       "        }    #T_9e6809f2_b020_11e9_ae83_a8be27d0a728row1_col9 {\n",
       "            background-color:  #fff7fb;\n",
       "            color:  #000000;\n",
       "        }    #T_9e6809f2_b020_11e9_ae83_a8be27d0a728row1_col10 {\n",
       "            background-color:  #fff7fb;\n",
       "            color:  #000000;\n",
       "        }    #T_9e6809f2_b020_11e9_ae83_a8be27d0a728row1_col11 {\n",
       "            background-color:  #fff7fb;\n",
       "            color:  #000000;\n",
       "        }    #T_9e6809f2_b020_11e9_ae83_a8be27d0a728row1_col12 {\n",
       "            background-color:  #fff7fb;\n",
       "            color:  #000000;\n",
       "        }    #T_9e6809f2_b020_11e9_ae83_a8be27d0a728row1_col13 {\n",
       "            background-color:  #acc0dd;\n",
       "            color:  #000000;\n",
       "        }    #T_9e6809f2_b020_11e9_ae83_a8be27d0a728row1_col16 {\n",
       "            background-color:  #023858;\n",
       "            color:  #f1f1f1;\n",
       "        }    #T_9e6809f2_b020_11e9_ae83_a8be27d0a728row1_col18 {\n",
       "            background-color:  #fff7fb;\n",
       "            color:  #000000;\n",
       "        }    #T_9e6809f2_b020_11e9_ae83_a8be27d0a728row1_col19 {\n",
       "            background-color:  #023858;\n",
       "            color:  #f1f1f1;\n",
       "        }    #T_9e6809f2_b020_11e9_ae83_a8be27d0a728row1_col20 {\n",
       "            background-color:  #fff7fb;\n",
       "            color:  #000000;\n",
       "        }    #T_9e6809f2_b020_11e9_ae83_a8be27d0a728row1_col21 {\n",
       "            background-color:  #023858;\n",
       "            color:  #f1f1f1;\n",
       "        }    #T_9e6809f2_b020_11e9_ae83_a8be27d0a728row1_col22 {\n",
       "            background-color:  #023858;\n",
       "            color:  #f1f1f1;\n",
       "        }    #T_9e6809f2_b020_11e9_ae83_a8be27d0a728row1_col23 {\n",
       "            background-color:  #f7f0f7;\n",
       "            color:  #000000;\n",
       "        }    #T_9e6809f2_b020_11e9_ae83_a8be27d0a728row1_col24 {\n",
       "            background-color:  #dbdaeb;\n",
       "            color:  #000000;\n",
       "        }    #T_9e6809f2_b020_11e9_ae83_a8be27d0a728row1_col25 {\n",
       "            background-color:  #056dab;\n",
       "            color:  #f1f1f1;\n",
       "        }    #T_9e6809f2_b020_11e9_ae83_a8be27d0a728row2_col0 {\n",
       "            background-color:  #73a9cf;\n",
       "            color:  #000000;\n",
       "        }    #T_9e6809f2_b020_11e9_ae83_a8be27d0a728row2_col1 {\n",
       "            background-color:  #fff7fb;\n",
       "            color:  #000000;\n",
       "        }    #T_9e6809f2_b020_11e9_ae83_a8be27d0a728row2_col9 {\n",
       "            background-color:  #1278b4;\n",
       "            color:  #f1f1f1;\n",
       "        }    #T_9e6809f2_b020_11e9_ae83_a8be27d0a728row2_col10 {\n",
       "            background-color:  #c4cbe3;\n",
       "            color:  #000000;\n",
       "        }    #T_9e6809f2_b020_11e9_ae83_a8be27d0a728row2_col11 {\n",
       "            background-color:  #023858;\n",
       "            color:  #f1f1f1;\n",
       "        }    #T_9e6809f2_b020_11e9_ae83_a8be27d0a728row2_col12 {\n",
       "            background-color:  #79abd0;\n",
       "            color:  #000000;\n",
       "        }    #T_9e6809f2_b020_11e9_ae83_a8be27d0a728row2_col13 {\n",
       "            background-color:  #96b6d7;\n",
       "            color:  #000000;\n",
       "        }    #T_9e6809f2_b020_11e9_ae83_a8be27d0a728row2_col16 {\n",
       "            background-color:  #fff7fb;\n",
       "            color:  #000000;\n",
       "        }    #T_9e6809f2_b020_11e9_ae83_a8be27d0a728row2_col18 {\n",
       "            background-color:  #fff7fb;\n",
       "            color:  #000000;\n",
       "        }    #T_9e6809f2_b020_11e9_ae83_a8be27d0a728row2_col19 {\n",
       "            background-color:  #fff7fb;\n",
       "            color:  #000000;\n",
       "        }    #T_9e6809f2_b020_11e9_ae83_a8be27d0a728row2_col20 {\n",
       "            background-color:  #023858;\n",
       "            color:  #f1f1f1;\n",
       "        }    #T_9e6809f2_b020_11e9_ae83_a8be27d0a728row2_col21 {\n",
       "            background-color:  #eee9f3;\n",
       "            color:  #000000;\n",
       "        }    #T_9e6809f2_b020_11e9_ae83_a8be27d0a728row2_col22 {\n",
       "            background-color:  #4a98c5;\n",
       "            color:  #000000;\n",
       "        }    #T_9e6809f2_b020_11e9_ae83_a8be27d0a728row2_col23 {\n",
       "            background-color:  #94b6d7;\n",
       "            color:  #000000;\n",
       "        }    #T_9e6809f2_b020_11e9_ae83_a8be27d0a728row2_col24 {\n",
       "            background-color:  #9cb9d9;\n",
       "            color:  #000000;\n",
       "        }    #T_9e6809f2_b020_11e9_ae83_a8be27d0a728row2_col25 {\n",
       "            background-color:  #fff7fb;\n",
       "            color:  #000000;\n",
       "        }    #T_9e6809f2_b020_11e9_ae83_a8be27d0a728row3_col0 {\n",
       "            background-color:  #73a9cf;\n",
       "            color:  #000000;\n",
       "        }    #T_9e6809f2_b020_11e9_ae83_a8be27d0a728row3_col1 {\n",
       "            background-color:  #fff7fb;\n",
       "            color:  #000000;\n",
       "        }    #T_9e6809f2_b020_11e9_ae83_a8be27d0a728row3_col9 {\n",
       "            background-color:  #1278b4;\n",
       "            color:  #f1f1f1;\n",
       "        }    #T_9e6809f2_b020_11e9_ae83_a8be27d0a728row3_col10 {\n",
       "            background-color:  #c4cbe3;\n",
       "            color:  #000000;\n",
       "        }    #T_9e6809f2_b020_11e9_ae83_a8be27d0a728row3_col11 {\n",
       "            background-color:  #023858;\n",
       "            color:  #f1f1f1;\n",
       "        }    #T_9e6809f2_b020_11e9_ae83_a8be27d0a728row3_col12 {\n",
       "            background-color:  #79abd0;\n",
       "            color:  #000000;\n",
       "        }    #T_9e6809f2_b020_11e9_ae83_a8be27d0a728row3_col13 {\n",
       "            background-color:  #056dac;\n",
       "            color:  #f1f1f1;\n",
       "        }    #T_9e6809f2_b020_11e9_ae83_a8be27d0a728row3_col16 {\n",
       "            background-color:  #023858;\n",
       "            color:  #f1f1f1;\n",
       "        }    #T_9e6809f2_b020_11e9_ae83_a8be27d0a728row3_col18 {\n",
       "            background-color:  #fff7fb;\n",
       "            color:  #000000;\n",
       "        }    #T_9e6809f2_b020_11e9_ae83_a8be27d0a728row3_col19 {\n",
       "            background-color:  #023858;\n",
       "            color:  #f1f1f1;\n",
       "        }    #T_9e6809f2_b020_11e9_ae83_a8be27d0a728row3_col20 {\n",
       "            background-color:  #fff7fb;\n",
       "            color:  #000000;\n",
       "        }    #T_9e6809f2_b020_11e9_ae83_a8be27d0a728row3_col21 {\n",
       "            background-color:  #023858;\n",
       "            color:  #f1f1f1;\n",
       "        }    #T_9e6809f2_b020_11e9_ae83_a8be27d0a728row3_col22 {\n",
       "            background-color:  #023858;\n",
       "            color:  #f1f1f1;\n",
       "        }    #T_9e6809f2_b020_11e9_ae83_a8be27d0a728row3_col23 {\n",
       "            background-color:  #fff7fb;\n",
       "            color:  #000000;\n",
       "        }    #T_9e6809f2_b020_11e9_ae83_a8be27d0a728row3_col24 {\n",
       "            background-color:  #fff7fb;\n",
       "            color:  #000000;\n",
       "        }    #T_9e6809f2_b020_11e9_ae83_a8be27d0a728row3_col25 {\n",
       "            background-color:  #4496c3;\n",
       "            color:  #000000;\n",
       "        }    #T_9e6809f2_b020_11e9_ae83_a8be27d0a728row4_col0 {\n",
       "            background-color:  #73a9cf;\n",
       "            color:  #000000;\n",
       "        }    #T_9e6809f2_b020_11e9_ae83_a8be27d0a728row4_col1 {\n",
       "            background-color:  #fff7fb;\n",
       "            color:  #000000;\n",
       "        }    #T_9e6809f2_b020_11e9_ae83_a8be27d0a728row4_col9 {\n",
       "            background-color:  #1278b4;\n",
       "            color:  #f1f1f1;\n",
       "        }    #T_9e6809f2_b020_11e9_ae83_a8be27d0a728row4_col10 {\n",
       "            background-color:  #c4cbe3;\n",
       "            color:  #000000;\n",
       "        }    #T_9e6809f2_b020_11e9_ae83_a8be27d0a728row4_col11 {\n",
       "            background-color:  #023858;\n",
       "            color:  #f1f1f1;\n",
       "        }    #T_9e6809f2_b020_11e9_ae83_a8be27d0a728row4_col12 {\n",
       "            background-color:  #79abd0;\n",
       "            color:  #000000;\n",
       "        }    #T_9e6809f2_b020_11e9_ae83_a8be27d0a728row4_col13 {\n",
       "            background-color:  #04649d;\n",
       "            color:  #f1f1f1;\n",
       "        }    #T_9e6809f2_b020_11e9_ae83_a8be27d0a728row4_col16 {\n",
       "            background-color:  #023858;\n",
       "            color:  #f1f1f1;\n",
       "        }    #T_9e6809f2_b020_11e9_ae83_a8be27d0a728row4_col18 {\n",
       "            background-color:  #fff7fb;\n",
       "            color:  #000000;\n",
       "        }    #T_9e6809f2_b020_11e9_ae83_a8be27d0a728row4_col19 {\n",
       "            background-color:  #023858;\n",
       "            color:  #f1f1f1;\n",
       "        }    #T_9e6809f2_b020_11e9_ae83_a8be27d0a728row4_col20 {\n",
       "            background-color:  #fff7fb;\n",
       "            color:  #000000;\n",
       "        }    #T_9e6809f2_b020_11e9_ae83_a8be27d0a728row4_col21 {\n",
       "            background-color:  #023858;\n",
       "            color:  #f1f1f1;\n",
       "        }    #T_9e6809f2_b020_11e9_ae83_a8be27d0a728row4_col22 {\n",
       "            background-color:  #023858;\n",
       "            color:  #f1f1f1;\n",
       "        }    #T_9e6809f2_b020_11e9_ae83_a8be27d0a728row4_col23 {\n",
       "            background-color:  #fff7fb;\n",
       "            color:  #000000;\n",
       "        }    #T_9e6809f2_b020_11e9_ae83_a8be27d0a728row4_col24 {\n",
       "            background-color:  #fff7fb;\n",
       "            color:  #000000;\n",
       "        }    #T_9e6809f2_b020_11e9_ae83_a8be27d0a728row4_col25 {\n",
       "            background-color:  #034f7d;\n",
       "            color:  #f1f1f1;\n",
       "        }    #T_9e6809f2_b020_11e9_ae83_a8be27d0a728row5_col0 {\n",
       "            background-color:  #fff7fb;\n",
       "            color:  #000000;\n",
       "        }    #T_9e6809f2_b020_11e9_ae83_a8be27d0a728row5_col1 {\n",
       "            background-color:  #d0d1e6;\n",
       "            color:  #000000;\n",
       "        }    #T_9e6809f2_b020_11e9_ae83_a8be27d0a728row5_col9 {\n",
       "            background-color:  #023858;\n",
       "            color:  #f1f1f1;\n",
       "        }    #T_9e6809f2_b020_11e9_ae83_a8be27d0a728row5_col10 {\n",
       "            background-color:  #023858;\n",
       "            color:  #f1f1f1;\n",
       "        }    #T_9e6809f2_b020_11e9_ae83_a8be27d0a728row5_col11 {\n",
       "            background-color:  #023858;\n",
       "            color:  #f1f1f1;\n",
       "        }    #T_9e6809f2_b020_11e9_ae83_a8be27d0a728row5_col12 {\n",
       "            background-color:  #023858;\n",
       "            color:  #f1f1f1;\n",
       "        }    #T_9e6809f2_b020_11e9_ae83_a8be27d0a728row5_col13 {\n",
       "            background-color:  #023858;\n",
       "            color:  #f1f1f1;\n",
       "        }    #T_9e6809f2_b020_11e9_ae83_a8be27d0a728row5_col16 {\n",
       "            background-color:  #023858;\n",
       "            color:  #f1f1f1;\n",
       "        }    #T_9e6809f2_b020_11e9_ae83_a8be27d0a728row5_col18 {\n",
       "            background-color:  #fff7fb;\n",
       "            color:  #000000;\n",
       "        }    #T_9e6809f2_b020_11e9_ae83_a8be27d0a728row5_col19 {\n",
       "            background-color:  #023858;\n",
       "            color:  #f1f1f1;\n",
       "        }    #T_9e6809f2_b020_11e9_ae83_a8be27d0a728row5_col20 {\n",
       "            background-color:  #fff7fb;\n",
       "            color:  #000000;\n",
       "        }    #T_9e6809f2_b020_11e9_ae83_a8be27d0a728row5_col21 {\n",
       "            background-color:  #023858;\n",
       "            color:  #f1f1f1;\n",
       "        }    #T_9e6809f2_b020_11e9_ae83_a8be27d0a728row5_col22 {\n",
       "            background-color:  #023858;\n",
       "            color:  #f1f1f1;\n",
       "        }    #T_9e6809f2_b020_11e9_ae83_a8be27d0a728row5_col23 {\n",
       "            background-color:  #fff7fb;\n",
       "            color:  #000000;\n",
       "        }    #T_9e6809f2_b020_11e9_ae83_a8be27d0a728row5_col24 {\n",
       "            background-color:  #fff7fb;\n",
       "            color:  #000000;\n",
       "        }    #T_9e6809f2_b020_11e9_ae83_a8be27d0a728row5_col25 {\n",
       "            background-color:  #023858;\n",
       "            color:  #f1f1f1;\n",
       "        }</style><table id=\"T_9e6809f2_b020_11e9_ae83_a8be27d0a728\" ><thead>    <tr>        <th class=\"blank level0\" ></th>        <th class=\"col_heading level0 col0\" >symboling</th>        <th class=\"col_heading level0 col1\" >normalized-losses</th>        <th class=\"col_heading level0 col2\" >make</th>        <th class=\"col_heading level0 col3\" >fuel-type</th>        <th class=\"col_heading level0 col4\" >aspiration</th>        <th class=\"col_heading level0 col5\" >num-of-doors</th>        <th class=\"col_heading level0 col6\" >body-style</th>        <th class=\"col_heading level0 col7\" >drive-wheels</th>        <th class=\"col_heading level0 col8\" >engine-location</th>        <th class=\"col_heading level0 col9\" >wheel-base</th>        <th class=\"col_heading level0 col10\" >length</th>        <th class=\"col_heading level0 col11\" >width</th>        <th class=\"col_heading level0 col12\" >height</th>        <th class=\"col_heading level0 col13\" >curb-weight</th>        <th class=\"col_heading level0 col14\" >engine-type</th>        <th class=\"col_heading level0 col15\" >num-of-cylinders</th>        <th class=\"col_heading level0 col16\" >engine-size</th>        <th class=\"col_heading level0 col17\" >fuel-system</th>        <th class=\"col_heading level0 col18\" >bore</th>        <th class=\"col_heading level0 col19\" >stroke</th>        <th class=\"col_heading level0 col20\" >compression-ratio</th>        <th class=\"col_heading level0 col21\" >horsepower</th>        <th class=\"col_heading level0 col22\" >peak-rpm</th>        <th class=\"col_heading level0 col23\" >city-mpg</th>        <th class=\"col_heading level0 col24\" >highway-mpg</th>        <th class=\"col_heading level0 col25\" >price</th>    </tr></thead><tbody>\n",
       "                <tr>\n",
       "                        <th id=\"T_9e6809f2_b020_11e9_ae83_a8be27d0a728level0_row0\" class=\"row_heading level0 row0\" >30</th>\n",
       "                        <td id=\"T_9e6809f2_b020_11e9_ae83_a8be27d0a728row0_col0\" class=\"data row0 col0\" >2</td>\n",
       "                        <td id=\"T_9e6809f2_b020_11e9_ae83_a8be27d0a728row0_col1\" class=\"data row0 col1\" >137</td>\n",
       "                        <td id=\"T_9e6809f2_b020_11e9_ae83_a8be27d0a728row0_col2\" class=\"data row0 col2\" >honda</td>\n",
       "                        <td id=\"T_9e6809f2_b020_11e9_ae83_a8be27d0a728row0_col3\" class=\"data row0 col3\" >gas</td>\n",
       "                        <td id=\"T_9e6809f2_b020_11e9_ae83_a8be27d0a728row0_col4\" class=\"data row0 col4\" >std</td>\n",
       "                        <td id=\"T_9e6809f2_b020_11e9_ae83_a8be27d0a728row0_col5\" class=\"data row0 col5\" >two</td>\n",
       "                        <td id=\"T_9e6809f2_b020_11e9_ae83_a8be27d0a728row0_col6\" class=\"data row0 col6\" >hatchback</td>\n",
       "                        <td id=\"T_9e6809f2_b020_11e9_ae83_a8be27d0a728row0_col7\" class=\"data row0 col7\" >fwd</td>\n",
       "                        <td id=\"T_9e6809f2_b020_11e9_ae83_a8be27d0a728row0_col8\" class=\"data row0 col8\" >front</td>\n",
       "                        <td id=\"T_9e6809f2_b020_11e9_ae83_a8be27d0a728row0_col9\" class=\"data row0 col9\" >86.6</td>\n",
       "                        <td id=\"T_9e6809f2_b020_11e9_ae83_a8be27d0a728row0_col10\" class=\"data row0 col10\" >144.6</td>\n",
       "                        <td id=\"T_9e6809f2_b020_11e9_ae83_a8be27d0a728row0_col11\" class=\"data row0 col11\" >63.9</td>\n",
       "                        <td id=\"T_9e6809f2_b020_11e9_ae83_a8be27d0a728row0_col12\" class=\"data row0 col12\" >50.8</td>\n",
       "                        <td id=\"T_9e6809f2_b020_11e9_ae83_a8be27d0a728row0_col13\" class=\"data row0 col13\" >1713</td>\n",
       "                        <td id=\"T_9e6809f2_b020_11e9_ae83_a8be27d0a728row0_col14\" class=\"data row0 col14\" >ohc</td>\n",
       "                        <td id=\"T_9e6809f2_b020_11e9_ae83_a8be27d0a728row0_col15\" class=\"data row0 col15\" >four</td>\n",
       "                        <td id=\"T_9e6809f2_b020_11e9_ae83_a8be27d0a728row0_col16\" class=\"data row0 col16\" >92</td>\n",
       "                        <td id=\"T_9e6809f2_b020_11e9_ae83_a8be27d0a728row0_col17\" class=\"data row0 col17\" >1bbl</td>\n",
       "                        <td id=\"T_9e6809f2_b020_11e9_ae83_a8be27d0a728row0_col18\" class=\"data row0 col18\" >2.91</td>\n",
       "                        <td id=\"T_9e6809f2_b020_11e9_ae83_a8be27d0a728row0_col19\" class=\"data row0 col19\" >3.41</td>\n",
       "                        <td id=\"T_9e6809f2_b020_11e9_ae83_a8be27d0a728row0_col20\" class=\"data row0 col20\" >9.6</td>\n",
       "                        <td id=\"T_9e6809f2_b020_11e9_ae83_a8be27d0a728row0_col21\" class=\"data row0 col21\" >58</td>\n",
       "                        <td id=\"T_9e6809f2_b020_11e9_ae83_a8be27d0a728row0_col22\" class=\"data row0 col22\" >4800</td>\n",
       "                        <td id=\"T_9e6809f2_b020_11e9_ae83_a8be27d0a728row0_col23\" class=\"data row0 col23\" >49</td>\n",
       "                        <td id=\"T_9e6809f2_b020_11e9_ae83_a8be27d0a728row0_col24\" class=\"data row0 col24\" >54</td>\n",
       "                        <td id=\"T_9e6809f2_b020_11e9_ae83_a8be27d0a728row0_col25\" class=\"data row0 col25\" >6479</td>\n",
       "            </tr>\n",
       "            <tr>\n",
       "                        <th id=\"T_9e6809f2_b020_11e9_ae83_a8be27d0a728level0_row1\" class=\"row_heading level0 row1\" >31</th>\n",
       "                        <td id=\"T_9e6809f2_b020_11e9_ae83_a8be27d0a728row1_col0\" class=\"data row1 col0\" >2</td>\n",
       "                        <td id=\"T_9e6809f2_b020_11e9_ae83_a8be27d0a728row1_col1\" class=\"data row1 col1\" >137</td>\n",
       "                        <td id=\"T_9e6809f2_b020_11e9_ae83_a8be27d0a728row1_col2\" class=\"data row1 col2\" >honda</td>\n",
       "                        <td id=\"T_9e6809f2_b020_11e9_ae83_a8be27d0a728row1_col3\" class=\"data row1 col3\" >gas</td>\n",
       "                        <td id=\"T_9e6809f2_b020_11e9_ae83_a8be27d0a728row1_col4\" class=\"data row1 col4\" >std</td>\n",
       "                        <td id=\"T_9e6809f2_b020_11e9_ae83_a8be27d0a728row1_col5\" class=\"data row1 col5\" >two</td>\n",
       "                        <td id=\"T_9e6809f2_b020_11e9_ae83_a8be27d0a728row1_col6\" class=\"data row1 col6\" >hatchback</td>\n",
       "                        <td id=\"T_9e6809f2_b020_11e9_ae83_a8be27d0a728row1_col7\" class=\"data row1 col7\" >fwd</td>\n",
       "                        <td id=\"T_9e6809f2_b020_11e9_ae83_a8be27d0a728row1_col8\" class=\"data row1 col8\" >front</td>\n",
       "                        <td id=\"T_9e6809f2_b020_11e9_ae83_a8be27d0a728row1_col9\" class=\"data row1 col9\" >86.6</td>\n",
       "                        <td id=\"T_9e6809f2_b020_11e9_ae83_a8be27d0a728row1_col10\" class=\"data row1 col10\" >144.6</td>\n",
       "                        <td id=\"T_9e6809f2_b020_11e9_ae83_a8be27d0a728row1_col11\" class=\"data row1 col11\" >63.9</td>\n",
       "                        <td id=\"T_9e6809f2_b020_11e9_ae83_a8be27d0a728row1_col12\" class=\"data row1 col12\" >50.8</td>\n",
       "                        <td id=\"T_9e6809f2_b020_11e9_ae83_a8be27d0a728row1_col13\" class=\"data row1 col13\" >1819</td>\n",
       "                        <td id=\"T_9e6809f2_b020_11e9_ae83_a8be27d0a728row1_col14\" class=\"data row1 col14\" >ohc</td>\n",
       "                        <td id=\"T_9e6809f2_b020_11e9_ae83_a8be27d0a728row1_col15\" class=\"data row1 col15\" >four</td>\n",
       "                        <td id=\"T_9e6809f2_b020_11e9_ae83_a8be27d0a728row1_col16\" class=\"data row1 col16\" >92</td>\n",
       "                        <td id=\"T_9e6809f2_b020_11e9_ae83_a8be27d0a728row1_col17\" class=\"data row1 col17\" >1bbl</td>\n",
       "                        <td id=\"T_9e6809f2_b020_11e9_ae83_a8be27d0a728row1_col18\" class=\"data row1 col18\" >2.91</td>\n",
       "                        <td id=\"T_9e6809f2_b020_11e9_ae83_a8be27d0a728row1_col19\" class=\"data row1 col19\" >3.41</td>\n",
       "                        <td id=\"T_9e6809f2_b020_11e9_ae83_a8be27d0a728row1_col20\" class=\"data row1 col20\" >9.2</td>\n",
       "                        <td id=\"T_9e6809f2_b020_11e9_ae83_a8be27d0a728row1_col21\" class=\"data row1 col21\" >76</td>\n",
       "                        <td id=\"T_9e6809f2_b020_11e9_ae83_a8be27d0a728row1_col22\" class=\"data row1 col22\" >6000</td>\n",
       "                        <td id=\"T_9e6809f2_b020_11e9_ae83_a8be27d0a728row1_col23\" class=\"data row1 col23\" >31</td>\n",
       "                        <td id=\"T_9e6809f2_b020_11e9_ae83_a8be27d0a728row1_col24\" class=\"data row1 col24\" >38</td>\n",
       "                        <td id=\"T_9e6809f2_b020_11e9_ae83_a8be27d0a728row1_col25\" class=\"data row1 col25\" >6855</td>\n",
       "            </tr>\n",
       "            <tr>\n",
       "                        <th id=\"T_9e6809f2_b020_11e9_ae83_a8be27d0a728level0_row2\" class=\"row_heading level0 row2\" >32</th>\n",
       "                        <td id=\"T_9e6809f2_b020_11e9_ae83_a8be27d0a728row2_col0\" class=\"data row2 col0\" >1</td>\n",
       "                        <td id=\"T_9e6809f2_b020_11e9_ae83_a8be27d0a728row2_col1\" class=\"data row2 col1\" >101</td>\n",
       "                        <td id=\"T_9e6809f2_b020_11e9_ae83_a8be27d0a728row2_col2\" class=\"data row2 col2\" >honda</td>\n",
       "                        <td id=\"T_9e6809f2_b020_11e9_ae83_a8be27d0a728row2_col3\" class=\"data row2 col3\" >gas</td>\n",
       "                        <td id=\"T_9e6809f2_b020_11e9_ae83_a8be27d0a728row2_col4\" class=\"data row2 col4\" >std</td>\n",
       "                        <td id=\"T_9e6809f2_b020_11e9_ae83_a8be27d0a728row2_col5\" class=\"data row2 col5\" >two</td>\n",
       "                        <td id=\"T_9e6809f2_b020_11e9_ae83_a8be27d0a728row2_col6\" class=\"data row2 col6\" >hatchback</td>\n",
       "                        <td id=\"T_9e6809f2_b020_11e9_ae83_a8be27d0a728row2_col7\" class=\"data row2 col7\" >fwd</td>\n",
       "                        <td id=\"T_9e6809f2_b020_11e9_ae83_a8be27d0a728row2_col8\" class=\"data row2 col8\" >front</td>\n",
       "                        <td id=\"T_9e6809f2_b020_11e9_ae83_a8be27d0a728row2_col9\" class=\"data row2 col9\" >93.7</td>\n",
       "                        <td id=\"T_9e6809f2_b020_11e9_ae83_a8be27d0a728row2_col10\" class=\"data row2 col10\" >150</td>\n",
       "                        <td id=\"T_9e6809f2_b020_11e9_ae83_a8be27d0a728row2_col11\" class=\"data row2 col11\" >64</td>\n",
       "                        <td id=\"T_9e6809f2_b020_11e9_ae83_a8be27d0a728row2_col12\" class=\"data row2 col12\" >52.6</td>\n",
       "                        <td id=\"T_9e6809f2_b020_11e9_ae83_a8be27d0a728row2_col13\" class=\"data row2 col13\" >1837</td>\n",
       "                        <td id=\"T_9e6809f2_b020_11e9_ae83_a8be27d0a728row2_col14\" class=\"data row2 col14\" >ohc</td>\n",
       "                        <td id=\"T_9e6809f2_b020_11e9_ae83_a8be27d0a728row2_col15\" class=\"data row2 col15\" >four</td>\n",
       "                        <td id=\"T_9e6809f2_b020_11e9_ae83_a8be27d0a728row2_col16\" class=\"data row2 col16\" >79</td>\n",
       "                        <td id=\"T_9e6809f2_b020_11e9_ae83_a8be27d0a728row2_col17\" class=\"data row2 col17\" >1bbl</td>\n",
       "                        <td id=\"T_9e6809f2_b020_11e9_ae83_a8be27d0a728row2_col18\" class=\"data row2 col18\" >2.91</td>\n",
       "                        <td id=\"T_9e6809f2_b020_11e9_ae83_a8be27d0a728row2_col19\" class=\"data row2 col19\" >3.07</td>\n",
       "                        <td id=\"T_9e6809f2_b020_11e9_ae83_a8be27d0a728row2_col20\" class=\"data row2 col20\" >10.1</td>\n",
       "                        <td id=\"T_9e6809f2_b020_11e9_ae83_a8be27d0a728row2_col21\" class=\"data row2 col21\" >60</td>\n",
       "                        <td id=\"T_9e6809f2_b020_11e9_ae83_a8be27d0a728row2_col22\" class=\"data row2 col22\" >5500</td>\n",
       "                        <td id=\"T_9e6809f2_b020_11e9_ae83_a8be27d0a728row2_col23\" class=\"data row2 col23\" >38</td>\n",
       "                        <td id=\"T_9e6809f2_b020_11e9_ae83_a8be27d0a728row2_col24\" class=\"data row2 col24\" >42</td>\n",
       "                        <td id=\"T_9e6809f2_b020_11e9_ae83_a8be27d0a728row2_col25\" class=\"data row2 col25\" >5399</td>\n",
       "            </tr>\n",
       "            <tr>\n",
       "                        <th id=\"T_9e6809f2_b020_11e9_ae83_a8be27d0a728level0_row3\" class=\"row_heading level0 row3\" >33</th>\n",
       "                        <td id=\"T_9e6809f2_b020_11e9_ae83_a8be27d0a728row3_col0\" class=\"data row3 col0\" >1</td>\n",
       "                        <td id=\"T_9e6809f2_b020_11e9_ae83_a8be27d0a728row3_col1\" class=\"data row3 col1\" >101</td>\n",
       "                        <td id=\"T_9e6809f2_b020_11e9_ae83_a8be27d0a728row3_col2\" class=\"data row3 col2\" >honda</td>\n",
       "                        <td id=\"T_9e6809f2_b020_11e9_ae83_a8be27d0a728row3_col3\" class=\"data row3 col3\" >gas</td>\n",
       "                        <td id=\"T_9e6809f2_b020_11e9_ae83_a8be27d0a728row3_col4\" class=\"data row3 col4\" >std</td>\n",
       "                        <td id=\"T_9e6809f2_b020_11e9_ae83_a8be27d0a728row3_col5\" class=\"data row3 col5\" >two</td>\n",
       "                        <td id=\"T_9e6809f2_b020_11e9_ae83_a8be27d0a728row3_col6\" class=\"data row3 col6\" >hatchback</td>\n",
       "                        <td id=\"T_9e6809f2_b020_11e9_ae83_a8be27d0a728row3_col7\" class=\"data row3 col7\" >fwd</td>\n",
       "                        <td id=\"T_9e6809f2_b020_11e9_ae83_a8be27d0a728row3_col8\" class=\"data row3 col8\" >front</td>\n",
       "                        <td id=\"T_9e6809f2_b020_11e9_ae83_a8be27d0a728row3_col9\" class=\"data row3 col9\" >93.7</td>\n",
       "                        <td id=\"T_9e6809f2_b020_11e9_ae83_a8be27d0a728row3_col10\" class=\"data row3 col10\" >150</td>\n",
       "                        <td id=\"T_9e6809f2_b020_11e9_ae83_a8be27d0a728row3_col11\" class=\"data row3 col11\" >64</td>\n",
       "                        <td id=\"T_9e6809f2_b020_11e9_ae83_a8be27d0a728row3_col12\" class=\"data row3 col12\" >52.6</td>\n",
       "                        <td id=\"T_9e6809f2_b020_11e9_ae83_a8be27d0a728row3_col13\" class=\"data row3 col13\" >1940</td>\n",
       "                        <td id=\"T_9e6809f2_b020_11e9_ae83_a8be27d0a728row3_col14\" class=\"data row3 col14\" >ohc</td>\n",
       "                        <td id=\"T_9e6809f2_b020_11e9_ae83_a8be27d0a728row3_col15\" class=\"data row3 col15\" >four</td>\n",
       "                        <td id=\"T_9e6809f2_b020_11e9_ae83_a8be27d0a728row3_col16\" class=\"data row3 col16\" >92</td>\n",
       "                        <td id=\"T_9e6809f2_b020_11e9_ae83_a8be27d0a728row3_col17\" class=\"data row3 col17\" >1bbl</td>\n",
       "                        <td id=\"T_9e6809f2_b020_11e9_ae83_a8be27d0a728row3_col18\" class=\"data row3 col18\" >2.91</td>\n",
       "                        <td id=\"T_9e6809f2_b020_11e9_ae83_a8be27d0a728row3_col19\" class=\"data row3 col19\" >3.41</td>\n",
       "                        <td id=\"T_9e6809f2_b020_11e9_ae83_a8be27d0a728row3_col20\" class=\"data row3 col20\" >9.2</td>\n",
       "                        <td id=\"T_9e6809f2_b020_11e9_ae83_a8be27d0a728row3_col21\" class=\"data row3 col21\" >76</td>\n",
       "                        <td id=\"T_9e6809f2_b020_11e9_ae83_a8be27d0a728row3_col22\" class=\"data row3 col22\" >6000</td>\n",
       "                        <td id=\"T_9e6809f2_b020_11e9_ae83_a8be27d0a728row3_col23\" class=\"data row3 col23\" >30</td>\n",
       "                        <td id=\"T_9e6809f2_b020_11e9_ae83_a8be27d0a728row3_col24\" class=\"data row3 col24\" >34</td>\n",
       "                        <td id=\"T_9e6809f2_b020_11e9_ae83_a8be27d0a728row3_col25\" class=\"data row3 col25\" >6529</td>\n",
       "            </tr>\n",
       "            <tr>\n",
       "                        <th id=\"T_9e6809f2_b020_11e9_ae83_a8be27d0a728level0_row4\" class=\"row_heading level0 row4\" >34</th>\n",
       "                        <td id=\"T_9e6809f2_b020_11e9_ae83_a8be27d0a728row4_col0\" class=\"data row4 col0\" >1</td>\n",
       "                        <td id=\"T_9e6809f2_b020_11e9_ae83_a8be27d0a728row4_col1\" class=\"data row4 col1\" >101</td>\n",
       "                        <td id=\"T_9e6809f2_b020_11e9_ae83_a8be27d0a728row4_col2\" class=\"data row4 col2\" >honda</td>\n",
       "                        <td id=\"T_9e6809f2_b020_11e9_ae83_a8be27d0a728row4_col3\" class=\"data row4 col3\" >gas</td>\n",
       "                        <td id=\"T_9e6809f2_b020_11e9_ae83_a8be27d0a728row4_col4\" class=\"data row4 col4\" >std</td>\n",
       "                        <td id=\"T_9e6809f2_b020_11e9_ae83_a8be27d0a728row4_col5\" class=\"data row4 col5\" >two</td>\n",
       "                        <td id=\"T_9e6809f2_b020_11e9_ae83_a8be27d0a728row4_col6\" class=\"data row4 col6\" >hatchback</td>\n",
       "                        <td id=\"T_9e6809f2_b020_11e9_ae83_a8be27d0a728row4_col7\" class=\"data row4 col7\" >fwd</td>\n",
       "                        <td id=\"T_9e6809f2_b020_11e9_ae83_a8be27d0a728row4_col8\" class=\"data row4 col8\" >front</td>\n",
       "                        <td id=\"T_9e6809f2_b020_11e9_ae83_a8be27d0a728row4_col9\" class=\"data row4 col9\" >93.7</td>\n",
       "                        <td id=\"T_9e6809f2_b020_11e9_ae83_a8be27d0a728row4_col10\" class=\"data row4 col10\" >150</td>\n",
       "                        <td id=\"T_9e6809f2_b020_11e9_ae83_a8be27d0a728row4_col11\" class=\"data row4 col11\" >64</td>\n",
       "                        <td id=\"T_9e6809f2_b020_11e9_ae83_a8be27d0a728row4_col12\" class=\"data row4 col12\" >52.6</td>\n",
       "                        <td id=\"T_9e6809f2_b020_11e9_ae83_a8be27d0a728row4_col13\" class=\"data row4 col13\" >1956</td>\n",
       "                        <td id=\"T_9e6809f2_b020_11e9_ae83_a8be27d0a728row4_col14\" class=\"data row4 col14\" >ohc</td>\n",
       "                        <td id=\"T_9e6809f2_b020_11e9_ae83_a8be27d0a728row4_col15\" class=\"data row4 col15\" >four</td>\n",
       "                        <td id=\"T_9e6809f2_b020_11e9_ae83_a8be27d0a728row4_col16\" class=\"data row4 col16\" >92</td>\n",
       "                        <td id=\"T_9e6809f2_b020_11e9_ae83_a8be27d0a728row4_col17\" class=\"data row4 col17\" >1bbl</td>\n",
       "                        <td id=\"T_9e6809f2_b020_11e9_ae83_a8be27d0a728row4_col18\" class=\"data row4 col18\" >2.91</td>\n",
       "                        <td id=\"T_9e6809f2_b020_11e9_ae83_a8be27d0a728row4_col19\" class=\"data row4 col19\" >3.41</td>\n",
       "                        <td id=\"T_9e6809f2_b020_11e9_ae83_a8be27d0a728row4_col20\" class=\"data row4 col20\" >9.2</td>\n",
       "                        <td id=\"T_9e6809f2_b020_11e9_ae83_a8be27d0a728row4_col21\" class=\"data row4 col21\" >76</td>\n",
       "                        <td id=\"T_9e6809f2_b020_11e9_ae83_a8be27d0a728row4_col22\" class=\"data row4 col22\" >6000</td>\n",
       "                        <td id=\"T_9e6809f2_b020_11e9_ae83_a8be27d0a728row4_col23\" class=\"data row4 col23\" >30</td>\n",
       "                        <td id=\"T_9e6809f2_b020_11e9_ae83_a8be27d0a728row4_col24\" class=\"data row4 col24\" >34</td>\n",
       "                        <td id=\"T_9e6809f2_b020_11e9_ae83_a8be27d0a728row4_col25\" class=\"data row4 col25\" >7129</td>\n",
       "            </tr>\n",
       "            <tr>\n",
       "                        <th id=\"T_9e6809f2_b020_11e9_ae83_a8be27d0a728level0_row5\" class=\"row_heading level0 row5\" >35</th>\n",
       "                        <td id=\"T_9e6809f2_b020_11e9_ae83_a8be27d0a728row5_col0\" class=\"data row5 col0\" >0</td>\n",
       "                        <td id=\"T_9e6809f2_b020_11e9_ae83_a8be27d0a728row5_col1\" class=\"data row5 col1\" >110</td>\n",
       "                        <td id=\"T_9e6809f2_b020_11e9_ae83_a8be27d0a728row5_col2\" class=\"data row5 col2\" >honda</td>\n",
       "                        <td id=\"T_9e6809f2_b020_11e9_ae83_a8be27d0a728row5_col3\" class=\"data row5 col3\" >gas</td>\n",
       "                        <td id=\"T_9e6809f2_b020_11e9_ae83_a8be27d0a728row5_col4\" class=\"data row5 col4\" >std</td>\n",
       "                        <td id=\"T_9e6809f2_b020_11e9_ae83_a8be27d0a728row5_col5\" class=\"data row5 col5\" >four</td>\n",
       "                        <td id=\"T_9e6809f2_b020_11e9_ae83_a8be27d0a728row5_col6\" class=\"data row5 col6\" >sedan</td>\n",
       "                        <td id=\"T_9e6809f2_b020_11e9_ae83_a8be27d0a728row5_col7\" class=\"data row5 col7\" >fwd</td>\n",
       "                        <td id=\"T_9e6809f2_b020_11e9_ae83_a8be27d0a728row5_col8\" class=\"data row5 col8\" >front</td>\n",
       "                        <td id=\"T_9e6809f2_b020_11e9_ae83_a8be27d0a728row5_col9\" class=\"data row5 col9\" >96.5</td>\n",
       "                        <td id=\"T_9e6809f2_b020_11e9_ae83_a8be27d0a728row5_col10\" class=\"data row5 col10\" >163.4</td>\n",
       "                        <td id=\"T_9e6809f2_b020_11e9_ae83_a8be27d0a728row5_col11\" class=\"data row5 col11\" >64</td>\n",
       "                        <td id=\"T_9e6809f2_b020_11e9_ae83_a8be27d0a728row5_col12\" class=\"data row5 col12\" >54.5</td>\n",
       "                        <td id=\"T_9e6809f2_b020_11e9_ae83_a8be27d0a728row5_col13\" class=\"data row5 col13\" >2010</td>\n",
       "                        <td id=\"T_9e6809f2_b020_11e9_ae83_a8be27d0a728row5_col14\" class=\"data row5 col14\" >ohc</td>\n",
       "                        <td id=\"T_9e6809f2_b020_11e9_ae83_a8be27d0a728row5_col15\" class=\"data row5 col15\" >four</td>\n",
       "                        <td id=\"T_9e6809f2_b020_11e9_ae83_a8be27d0a728row5_col16\" class=\"data row5 col16\" >92</td>\n",
       "                        <td id=\"T_9e6809f2_b020_11e9_ae83_a8be27d0a728row5_col17\" class=\"data row5 col17\" >1bbl</td>\n",
       "                        <td id=\"T_9e6809f2_b020_11e9_ae83_a8be27d0a728row5_col18\" class=\"data row5 col18\" >2.91</td>\n",
       "                        <td id=\"T_9e6809f2_b020_11e9_ae83_a8be27d0a728row5_col19\" class=\"data row5 col19\" >3.41</td>\n",
       "                        <td id=\"T_9e6809f2_b020_11e9_ae83_a8be27d0a728row5_col20\" class=\"data row5 col20\" >9.2</td>\n",
       "                        <td id=\"T_9e6809f2_b020_11e9_ae83_a8be27d0a728row5_col21\" class=\"data row5 col21\" >76</td>\n",
       "                        <td id=\"T_9e6809f2_b020_11e9_ae83_a8be27d0a728row5_col22\" class=\"data row5 col22\" >6000</td>\n",
       "                        <td id=\"T_9e6809f2_b020_11e9_ae83_a8be27d0a728row5_col23\" class=\"data row5 col23\" >30</td>\n",
       "                        <td id=\"T_9e6809f2_b020_11e9_ae83_a8be27d0a728row5_col24\" class=\"data row5 col24\" >34</td>\n",
       "                        <td id=\"T_9e6809f2_b020_11e9_ae83_a8be27d0a728row5_col25\" class=\"data row5 col25\" >7295</td>\n",
       "            </tr>\n",
       "    </tbody></table>"
      ],
      "text/plain": [
       "<pandas.io.formats.style.Styler at 0x1a1f2af358>"
      ]
     },
     "execution_count": 137,
     "metadata": {},
     "output_type": "execute_result"
    }
   ],
   "source": [
    "mini_df.pipe(pp.PrettyPandas).style.background_gradient()"
   ]
  },
  {
   "cell_type": "code",
   "execution_count": 4,
   "metadata": {},
   "outputs": [
    {
     "data": {
      "text/html": [
       "<style  type=\"text/css\" >\n",
       "    #T_527181fe_7dcb_11e9_8c54_787b8ac281b4row2_col0 {\n",
       "            font-weight:  900;\n",
       "        }    #T_527181fe_7dcb_11e9_8c54_787b8ac281b4row2_col1 {\n",
       "            font-weight:  900;\n",
       "        }    #T_527181fe_7dcb_11e9_8c54_787b8ac281b4row2_col2 {\n",
       "            font-weight:  900;\n",
       "        }    #T_527181fe_7dcb_11e9_8c54_787b8ac281b4row3_col0 {\n",
       "            font-weight:  900;\n",
       "        }    #T_527181fe_7dcb_11e9_8c54_787b8ac281b4row3_col1 {\n",
       "            font-weight:  900;\n",
       "        }    #T_527181fe_7dcb_11e9_8c54_787b8ac281b4row3_col2 {\n",
       "            font-weight:  900;\n",
       "        }</style>  \n",
       "<table id=\"T_527181fe_7dcb_11e9_8c54_787b8ac281b4\" > \n",
       "<thead>    <tr> \n",
       "        <th class=\"blank level0\" ></th> \n",
       "        <th class=\"col_heading level0 col0\" >a</th> \n",
       "        <th class=\"col_heading level0 col1\" >b</th> \n",
       "        <th class=\"col_heading level0 col2\" >c</th> \n",
       "    </tr></thead> \n",
       "<tbody>    <tr> \n",
       "        <th id=\"T_527181fe_7dcb_11e9_8c54_787b8ac281b4level0_row0\" class=\"row_heading level0 row0\" >0</th> \n",
       "        <td id=\"T_527181fe_7dcb_11e9_8c54_787b8ac281b4row0_col0\" class=\"data row0 col0\" >1</td> \n",
       "        <td id=\"T_527181fe_7dcb_11e9_8c54_787b8ac281b4row0_col1\" class=\"data row0 col1\" >€2.00</td> \n",
       "        <td id=\"T_527181fe_7dcb_11e9_8c54_787b8ac281b4row0_col2\" class=\"data row0 col2\" >3</td> \n",
       "    </tr>    <tr> \n",
       "        <th id=\"T_527181fe_7dcb_11e9_8c54_787b8ac281b4level0_row1\" class=\"row_heading level0 row1\" >1</th> \n",
       "        <td id=\"T_527181fe_7dcb_11e9_8c54_787b8ac281b4row1_col0\" class=\"data row1 col0\" >4</td> \n",
       "        <td id=\"T_527181fe_7dcb_11e9_8c54_787b8ac281b4row1_col1\" class=\"data row1 col1\" >€5.00</td> \n",
       "        <td id=\"T_527181fe_7dcb_11e9_8c54_787b8ac281b4row1_col2\" class=\"data row1 col2\" >6</td> \n",
       "    </tr>    <tr> \n",
       "        <th id=\"T_527181fe_7dcb_11e9_8c54_787b8ac281b4level0_row2\" class=\"row_heading level0 row2\" >Total</th> \n",
       "        <td id=\"T_527181fe_7dcb_11e9_8c54_787b8ac281b4row2_col0\" class=\"data row2 col0\" >5</td> \n",
       "        <td id=\"T_527181fe_7dcb_11e9_8c54_787b8ac281b4row2_col1\" class=\"data row2 col1\" >€7.00</td> \n",
       "        <td id=\"T_527181fe_7dcb_11e9_8c54_787b8ac281b4row2_col2\" class=\"data row2 col2\" >9</td> \n",
       "    </tr>    <tr> \n",
       "        <th id=\"T_527181fe_7dcb_11e9_8c54_787b8ac281b4level0_row3\" class=\"row_heading level0 row3\" >Average</th> \n",
       "        <td id=\"T_527181fe_7dcb_11e9_8c54_787b8ac281b4row3_col0\" class=\"data row3 col0\" >2.5</td> \n",
       "        <td id=\"T_527181fe_7dcb_11e9_8c54_787b8ac281b4row3_col1\" class=\"data row3 col1\" >€3.50</td> \n",
       "        <td id=\"T_527181fe_7dcb_11e9_8c54_787b8ac281b4row3_col2\" class=\"data row3 col2\" >4.5</td> \n",
       "    </tr></tbody> \n",
       "</table> "
      ],
      "text/plain": [
       "           a    b    c\n",
       "0        1.0  2.0  3.0\n",
       "1        4.0  5.0  6.0\n",
       "Total    5.0  7.0  9.0\n",
       "Average  2.5  3.5  4.5"
      ]
     },
     "execution_count": 4,
     "metadata": {},
     "output_type": "execute_result"
    }
   ],
   "source": [
    "import pandas as pd\n",
    "import prettypandas as pp\n",
    "\n",
    "df = pd.DataFrame([[1,2,3], [4,5,6]], columns=['a','b','c'])\n",
    "\n",
    "df.pipe(pp.PrettyPandas).as_currency('EUR', subset='b').total().average()"
   ]
  },
  {
   "cell_type": "markdown",
   "metadata": {},
   "source": [
    "### FAST PANDAS OPERATION ==> SWIFTER"
   ]
  },
  {
   "cell_type": "code",
   "execution_count": null,
   "metadata": {},
   "outputs": [],
   "source": [
    "def bikes_proportion(x, max_x):\n",
    "    return x * 1.0 / max_x\n",
    "data['bike_prop'] = data['bikes_available'].swifter.apply(\n",
    "                    bikes_proportion,\n",
    "                    max_x=np.max(data['bikes_available']))"
   ]
  },
  {
   "cell_type": "code",
   "execution_count": null,
   "metadata": {},
   "outputs": [],
   "source": [
    "def processTweet(tweet):\n",
    "    #Convert to lower case\n",
    "    tweet = tweet.lower()\n",
    "    #Convert www.* or https?://* to URL\n",
    "    tweet = re.sub('((www\\.[\\s]+)|(https?://[^\\s]+))','URL',tweet)\n",
    "    #Convert @username to AT_USER\n",
    "    tweet = re.sub('@[^\\s]+','AT_USER',tweet)\n",
    "    #Remove additional white spaces\n",
    "    tweet = re.sub('[\\s]+', ' ', tweet)\n",
    "    #Replace #word with word\n",
    "    tweet = re.sub(r'#([^\\s]+)', r'\\1', tweet)\n",
    "    #trim\n",
    "    tweet = tweet.strip('\\'\"')\n",
    "    return tweet"
   ]
  },
  {
   "cell_type": "code",
   "execution_count": null,
   "metadata": {},
   "outputs": [],
   "source": [
    "from sklearn.feature_extraction import text \n",
    "my_additional_stop_word_list = ['no', 'not']\n",
    "stop_words = text.ENGLISH_STOP_WORDS.union(my_additional_stop_word_list)\n",
    "\n",
    "CV = CountVectorizer(ngram_range=(1,3), decode_error='ignore', stop_words='english')\n",
    "cv_train = CV.fit_transform(X_train)\n",
    "cv_test = CV.transform(X_test)"
   ]
  },
  {
   "cell_type": "code",
   "execution_count": null,
   "metadata": {},
   "outputs": [],
   "source": [
    "# Write a function to perform the pre processing steps on the entire dataset\n",
    "from nltk.stem import WordNetLemmatizer, SnowballStemmer\n",
    "from nltk.stem.porter import *\n",
    "\n",
    "def lemmatize_stemming(text):\n",
    "    return stemmer.stem(WordNetLemmatizer().lemmatize(text, pos='v'))\n",
    "\n",
    "# First lemmatize then stemming"
   ]
  },
  {
   "cell_type": "code",
   "execution_count": null,
   "metadata": {},
   "outputs": [],
   "source": [
    "with open(os.path.join('data', 'sample_text.txt'), \"r\") as file:\n",
    "    text = file.read()\n",
    "    \n",
    "## data folderin altindaki sample_text file'ini okur    "
   ]
  },
  {
   "cell_type": "code",
   "execution_count": 1,
   "metadata": {},
   "outputs": [],
   "source": [
    "## Changing a directory of a jupyter notebook\n",
    "\n",
    "import os\n",
    "#os.chdir('/Users/serdar/desktop/datascience/26 ChatBot/Travelers') # New Path"
   ]
  },
  {
   "cell_type": "code",
   "execution_count": 16,
   "metadata": {},
   "outputs": [
    {
     "name": "stdout",
     "output_type": "stream",
     "text": [
      "pandas:0.24.0\n",
      "seaborn:0.9.0\n"
     ]
    }
   ],
   "source": [
    "# Version check\n",
    "\n",
    "print(f'pandas:{pd.__version__}')\n",
    "print(f'seaborn:{sns.__version__}')"
   ]
  },
  {
   "cell_type": "markdown",
   "metadata": {},
   "source": [
    "### BINNING THE DATA"
   ]
  },
  {
   "cell_type": "code",
   "execution_count": null,
   "metadata": {},
   "outputs": [],
   "source": [
    "bins = np.linspace(min(df['price']),(max(df['price']), 4)\n",
    "group_names = ['Low', 'Medium', 'High']\n",
    "df['price-binned'] = pd.cut(df['price'], bins, labels+group_names, include_lowest=True)               "
   ]
  },
  {
   "cell_type": "markdown",
   "metadata": {},
   "source": [
    "### SIMPLE SCALING"
   ]
  },
  {
   "cell_type": "code",
   "execution_count": null,
   "metadata": {},
   "outputs": [],
   "source": [
    "df['price'] = df['price']/max(df['price'])"
   ]
  },
  {
   "cell_type": "markdown",
   "metadata": {},
   "source": [
    "### ONE-HOT ENCODING with get dummies"
   ]
  },
  {
   "cell_type": "code",
   "execution_count": null,
   "metadata": {},
   "outputs": [],
   "source": [
    "pd.get_dummies(df['gas_type'], drop_first=True)"
   ]
  },
  {
   "cell_type": "markdown",
   "metadata": {},
   "source": [
    "### REPLACING MISSING WITH MEAN"
   ]
  },
  {
   "cell_type": "code",
   "execution_count": null,
   "metadata": {},
   "outputs": [],
   "source": [
    "avg=df['horsepower'].mean(axis=0)\n",
    "df['horsepower'].replace(np.nan, avg)"
   ]
  },
  {
   "cell_type": "code",
   "execution_count": 113,
   "metadata": {},
   "outputs": [
    {
     "name": "stdout",
     "output_type": "stream",
     "text": [
      "0 10\n",
      "11 20\n",
      "21 30\n",
      "31 40\n",
      "41 50\n",
      "51 60\n",
      "61 70\n",
      "71 80\n",
      "81 90\n",
      "91 100\n"
     ]
    }
   ],
   "source": [
    "slice=10\n",
    "for i in range(slice):\n",
    "    if i ==0:\n",
    "        print(i*slice, (i+1)*slice)\n",
    "    else:    \n",
    "        print((i*slice)+1, (i+1)*slice)"
   ]
  },
  {
   "cell_type": "markdown",
   "metadata": {},
   "source": [
    "### TO DataFrame"
   ]
  },
  {
   "cell_type": "code",
   "execution_count": null,
   "metadata": {},
   "outputs": [],
   "source": [
    "df['drive-wheels'].value_counts().to_frame()"
   ]
  },
  {
   "cell_type": "markdown",
   "metadata": {},
   "source": [
    "### Index Name"
   ]
  },
  {
   "cell_type": "code",
   "execution_count": null,
   "metadata": {},
   "outputs": [],
   "source": [
    "drive_wheels_counts.index.name = 'drive-wheels'"
   ]
  },
  {
   "cell_type": "code",
   "execution_count": 106,
   "metadata": {},
   "outputs": [],
   "source": [
    "df = pd.DataFrame(np.random.rand(4,5))"
   ]
  },
  {
   "cell_type": "code",
   "execution_count": 107,
   "metadata": {},
   "outputs": [
    {
     "data": {
      "text/html": [
       "<div>\n",
       "<style scoped>\n",
       "    .dataframe tbody tr th:only-of-type {\n",
       "        vertical-align: middle;\n",
       "    }\n",
       "\n",
       "    .dataframe tbody tr th {\n",
       "        vertical-align: top;\n",
       "    }\n",
       "\n",
       "    .dataframe thead th {\n",
       "        text-align: right;\n",
       "    }\n",
       "</style>\n",
       "<table border=\"1\" class=\"dataframe\">\n",
       "  <thead>\n",
       "    <tr style=\"text-align: right;\">\n",
       "      <th></th>\n",
       "      <th>0</th>\n",
       "      <th>1</th>\n",
       "      <th>2</th>\n",
       "      <th>3</th>\n",
       "      <th>4</th>\n",
       "    </tr>\n",
       "  </thead>\n",
       "  <tbody>\n",
       "    <tr>\n",
       "      <th>0</th>\n",
       "      <td>0.078332</td>\n",
       "      <td>0.981739</td>\n",
       "      <td>0.153749</td>\n",
       "      <td>0.536963</td>\n",
       "      <td>0.589724</td>\n",
       "    </tr>\n",
       "    <tr>\n",
       "      <th>1</th>\n",
       "      <td>0.380372</td>\n",
       "      <td>0.743687</td>\n",
       "      <td>0.162022</td>\n",
       "      <td>0.904419</td>\n",
       "      <td>0.457469</td>\n",
       "    </tr>\n",
       "    <tr>\n",
       "      <th>2</th>\n",
       "      <td>0.482465</td>\n",
       "      <td>0.155257</td>\n",
       "      <td>0.698137</td>\n",
       "      <td>0.667887</td>\n",
       "      <td>0.521467</td>\n",
       "    </tr>\n",
       "    <tr>\n",
       "      <th>3</th>\n",
       "      <td>0.559729</td>\n",
       "      <td>0.799665</td>\n",
       "      <td>0.109202</td>\n",
       "      <td>0.203445</td>\n",
       "      <td>0.176137</td>\n",
       "    </tr>\n",
       "  </tbody>\n",
       "</table>\n",
       "</div>"
      ],
      "text/plain": [
       "          0         1         2         3         4\n",
       "0  0.078332  0.981739  0.153749  0.536963  0.589724\n",
       "1  0.380372  0.743687  0.162022  0.904419  0.457469\n",
       "2  0.482465  0.155257  0.698137  0.667887  0.521467\n",
       "3  0.559729  0.799665  0.109202  0.203445  0.176137"
      ]
     },
     "execution_count": 107,
     "metadata": {},
     "output_type": "execute_result"
    }
   ],
   "source": [
    "df"
   ]
  },
  {
   "cell_type": "code",
   "execution_count": 108,
   "metadata": {},
   "outputs": [
    {
     "data": {
      "text/html": [
       "<div>\n",
       "<style scoped>\n",
       "    .dataframe tbody tr th:only-of-type {\n",
       "        vertical-align: middle;\n",
       "    }\n",
       "\n",
       "    .dataframe tbody tr th {\n",
       "        vertical-align: top;\n",
       "    }\n",
       "\n",
       "    .dataframe thead th {\n",
       "        text-align: right;\n",
       "    }\n",
       "</style>\n",
       "<table border=\"1\" class=\"dataframe\">\n",
       "  <thead>\n",
       "    <tr style=\"text-align: right;\">\n",
       "      <th></th>\n",
       "      <th>0</th>\n",
       "      <th>1</th>\n",
       "      <th>2</th>\n",
       "      <th>3</th>\n",
       "    </tr>\n",
       "  </thead>\n",
       "  <tbody>\n",
       "    <tr>\n",
       "      <th>0</th>\n",
       "      <td>0.078332</td>\n",
       "      <td>0.981739</td>\n",
       "      <td>0.153749</td>\n",
       "      <td>0.536963</td>\n",
       "    </tr>\n",
       "    <tr>\n",
       "      <th>1</th>\n",
       "      <td>0.380372</td>\n",
       "      <td>0.743687</td>\n",
       "      <td>0.162022</td>\n",
       "      <td>0.904419</td>\n",
       "    </tr>\n",
       "    <tr>\n",
       "      <th>2</th>\n",
       "      <td>0.482465</td>\n",
       "      <td>0.155257</td>\n",
       "      <td>0.698137</td>\n",
       "      <td>0.667887</td>\n",
       "    </tr>\n",
       "    <tr>\n",
       "      <th>3</th>\n",
       "      <td>0.559729</td>\n",
       "      <td>0.799665</td>\n",
       "      <td>0.109202</td>\n",
       "      <td>0.203445</td>\n",
       "    </tr>\n",
       "  </tbody>\n",
       "</table>\n",
       "</div>"
      ],
      "text/plain": [
       "          0         1         2         3\n",
       "0  0.078332  0.981739  0.153749  0.536963\n",
       "1  0.380372  0.743687  0.162022  0.904419\n",
       "2  0.482465  0.155257  0.698137  0.667887\n",
       "3  0.559729  0.799665  0.109202  0.203445"
      ]
     },
     "execution_count": 108,
     "metadata": {},
     "output_type": "execute_result"
    }
   ],
   "source": [
    "## Son sutuna kadar secme\n",
    "df.iloc[:, :-1]"
   ]
  },
  {
   "cell_type": "code",
   "execution_count": 109,
   "metadata": {},
   "outputs": [
    {
     "data": {
      "text/plain": [
       "0    0.589724\n",
       "1    0.457469\n",
       "2    0.521467\n",
       "3    0.176137\n",
       "Name: 4, dtype: float64"
      ]
     },
     "execution_count": 109,
     "metadata": {},
     "output_type": "execute_result"
    }
   ],
   "source": [
    "## Son sutunuu secme\n",
    "df.iloc[:,-1]"
   ]
  },
  {
   "cell_type": "code",
   "execution_count": 90,
   "metadata": {},
   "outputs": [],
   "source": [
    "def slicing_dataset(slice, df):\n",
    "    dataset_list = []\n",
    "    for i in range(slice):\n",
    "        if i == 0:\n",
    "            X_train = df.iloc[(i*slice):((i+1)*slice), :]\n",
    "            dataset_list.append(X_train)\n",
    "        else:\n",
    "            X_train = df.iloc[((i*slice)+1):((i+1)*slice)]\n",
    "            dataset_list.append(X_train)\n",
    "    return dataset_list"
   ]
  },
  {
   "cell_type": "markdown",
   "metadata": {},
   "source": [
    "### AUTOSAVE"
   ]
  },
  {
   "cell_type": "code",
   "execution_count": 32,
   "metadata": {},
   "outputs": [
    {
     "data": {
      "application/javascript": [
       "IPython.notebook.set_autosave_interval(30000)"
      ]
     },
     "metadata": {},
     "output_type": "display_data"
    },
    {
     "name": "stdout",
     "output_type": "stream",
     "text": [
      "Autosaving every 30 seconds\n"
     ]
    }
   ],
   "source": [
    "## Autosave in every 30 seconds\n",
    "%autosave 30 "
   ]
  },
  {
   "cell_type": "code",
   "execution_count": 9,
   "metadata": {},
   "outputs": [
    {
     "name": "stdout",
     "output_type": "stream",
     "text": [
      "Ankara Istanbul\n",
      "Ankara ......Istanbul\n",
      "        Ankara ......Istanbul\n",
      "Ankara      Istanbul  Izmir     \n"
     ]
    }
   ],
   "source": [
    "# Print formating\n",
    "a = 'Ankara'\n",
    "b = 'Istanbul' \n",
    "c = 'Izmir'\n",
    "print (a, b)\n",
    "print(f\"{a} {b:.>{14}}\")\n",
    "print(f\"{a:>{14}} {b:.>{14}}\")\n",
    "print('{:<12}{:<10}{:<10}'.format(a, b, c))"
   ]
  },
  {
   "cell_type": "code",
   "execution_count": null,
   "metadata": {},
   "outputs": [],
   "source": [
    "# To upgrade all packages at the same time\n",
    "# ! pip freeze — local | grep -v ‘^\\-e’ | cut -d = -f 1 | xargs -n1 pip install -U"
   ]
  },
  {
   "cell_type": "code",
   "execution_count": null,
   "metadata": {},
   "outputs": [],
   "source": [
    "!pip show rasa_nlu # check the version of a pacakge"
   ]
  },
  {
   "cell_type": "code",
   "execution_count": 14,
   "metadata": {},
   "outputs": [
    {
     "name": "stdout",
     "output_type": "stream",
     "text": [
      "Collecting sh\n",
      "  Downloading https://files.pythonhosted.org/packages/4a/22/17b22ef5b049f12080f5815c41bf94de3c229217609e469001a8f80c1b3d/sh-1.12.14-py2.py3-none-any.whl\n",
      "Installing collected packages: sh\n",
      "Successfully installed sh-1.12.14\n"
     ]
    }
   ],
   "source": [
    "import sys \n",
    "!{sys.executable} -m pip install sh"
   ]
  },
  {
   "cell_type": "code",
   "execution_count": null,
   "metadata": {},
   "outputs": [],
   "source": [
    "from geopy import GoogleV3\n",
    "\n",
    "place = \"282 Main Street, Lodi, New Jersey\"\n",
    "location = GoogleV3().geocode(place)"
   ]
  },
  {
   "cell_type": "code",
   "execution_count": null,
   "metadata": {},
   "outputs": [],
   "source": [
    "## FOR VISUALIZATION\n",
    "\n",
    "params = {'legend.fontsize': 'x-large',\n",
    "          'figure.figsize': (15, 5),\n",
    "         'axes.labelsize': 'x-large',\n",
    "         'axes.titlesize':'x-large',\n",
    "         'xtick.labelsize':'x-large',\n",
    "         'ytick.labelsize':'x-large'}\n",
    "\n",
    "plt.rcParams.update(params)\n",
    "%matplotlib inline"
   ]
  },
  {
   "cell_type": "code",
   "execution_count": null,
   "metadata": {},
   "outputs": [],
   "source": [
    "%config InlineBackend.figure_format ='retina'\n",
    "\n",
    "# High REsoultion outputs"
   ]
  },
  {
   "cell_type": "code",
   "execution_count": 29,
   "metadata": {},
   "outputs": [
    {
     "name": "stdout",
     "output_type": "stream",
     "text": [
      "message\r\n"
     ]
    }
   ],
   "source": [
    "message = 'This is Serdar'\n",
    "!echo message"
   ]
  },
  {
   "cell_type": "code",
   "execution_count": 30,
   "metadata": {},
   "outputs": [
    {
     "name": "stdout",
     "output_type": "stream",
     "text": [
      "This is Serdar\r\n"
     ]
    }
   ],
   "source": [
    "!echo $message"
   ]
  },
  {
   "cell_type": "code",
   "execution_count": 31,
   "metadata": {},
   "outputs": [
    {
     "data": {
      "application/javascript": [
       "IPython.notebook.set_autosave_interval(30000)"
      ]
     },
     "metadata": {},
     "output_type": "display_data"
    },
    {
     "name": "stdout",
     "output_type": "stream",
     "text": [
      "Autosaving every 30 seconds\n"
     ]
    }
   ],
   "source": [
    "%autosave 30"
   ]
  },
  {
   "cell_type": "code",
   "execution_count": 5,
   "metadata": {},
   "outputs": [
    {
     "name": "stdout",
     "output_type": "stream",
     "text": [
      ">>> df['BrandName'].replace(['ABC', 'AB'], 'A')\r\n",
      "0    A\r\n",
      "1    B\r\n",
      "2    A\r\n",
      "3    D\r\n",
      "4    A\r\n"
     ]
    }
   ],
   "source": [
    "# Ask questions and get your answer\n",
    "!howdoi replace in dataframe pandas"
   ]
  },
  {
   "cell_type": "code",
   "execution_count": 9,
   "metadata": {},
   "outputs": [
    {
     "name": "stdout",
     "output_type": "stream",
     "text": [
      ">>> def print_keyword_args(**kwargs):\r\n",
      "...     # kwargs is a dict of the keyword args passed to the function\r\n",
      "...     for key, value in kwargs.iteritems():\r\n",
      "...         print \"%s = %s\" % (key, value)\r\n",
      "... \r\n",
      ">>> print_keyword_args(first_name=\"John\", last_name=\"Doe\")\r\n",
      "first_name = John\r\n",
      "last_name = Doe\r\n"
     ]
    }
   ],
   "source": [
    "!howdoi **kwargs"
   ]
  },
  {
   "cell_type": "code",
   "execution_count": 21,
   "metadata": {},
   "outputs": [
    {
     "data": {
      "text/plain": [
       "hello world"
      ]
     },
     "execution_count": 21,
     "metadata": {},
     "output_type": "execute_result"
    }
   ],
   "source": [
    "import sh\n",
    "\n",
    "sh.pwd()\n",
    "sh.mkdir('Sample Files') # Create a folder\n",
    "sh.touch('Sample_text.txt') # Create a file\n",
    "sh.whoami() # print outs the user\n",
    "sh.echo('hello world')"
   ]
  },
  {
   "cell_type": "code",
   "execution_count": 12,
   "metadata": {},
   "outputs": [],
   "source": [
    "import requests\n",
    "import pprint\n",
    "\n",
    "url = 'https://randomuser.me/api/?results=1'\n",
    "users = requests.get(url).json()"
   ]
  },
  {
   "cell_type": "code",
   "execution_count": 11,
   "metadata": {},
   "outputs": [
    {
     "name": "stdout",
     "output_type": "stream",
     "text": [
      "{'results': [{'gender': 'female', 'name': {'title': 'ms', 'first': 'leah', 'last': 'carlson'}, 'location': {'street': '5864 bollinger rd', 'city': 'port macquarie', 'state': 'western australia', 'postcode': 920, 'coordinates': {'latitude': '-86.1325', 'longitude': '6.5569'}, 'timezone': {'offset': '+10:00', 'description': 'Eastern Australia, Guam, Vladivostok'}}, 'email': 'leah.carlson@example.com', 'login': {'uuid': '81df30be-2b8c-49fb-b715-1a7126f44e93', 'username': 'greenbutterfly680', 'password': 'adrian', 'salt': 'UIVL0S7C', 'md5': '7b348ff863dc60482385e6d7406c23d3', 'sha1': '1f220d6f3d1ee4c7eb2551a3b96c576010d72718', 'sha256': '03b33b347559074424c8c918e5dc8ef93f243062e3fc5c65572295a9abec8f52'}, 'dob': {'date': '1969-05-16T20:10:33Z', 'age': 49}, 'registered': {'date': '2003-11-10T02:00:58Z', 'age': 15}, 'phone': '03-9228-5202', 'cell': '0416-475-589', 'id': {'name': 'TFN', 'value': '847384723'}, 'picture': {'large': 'https://randomuser.me/api/portraits/women/17.jpg', 'medium': 'https://randomuser.me/api/portraits/med/women/17.jpg', 'thumbnail': 'https://randomuser.me/api/portraits/thumb/women/17.jpg'}, 'nat': 'AU'}], 'info': {'seed': 'ad4c386751289b8a', 'results': 1, 'page': 1, 'version': '1.2'}}\n"
     ]
    }
   ],
   "source": [
    "print(users)"
   ]
  },
  {
   "cell_type": "code",
   "execution_count": 13,
   "metadata": {},
   "outputs": [
    {
     "name": "stdout",
     "output_type": "stream",
     "text": [
      "{'info': {'page': 1,\n",
      "          'results': 1,\n",
      "          'seed': 'b32db8e5b914b955',\n",
      "          'version': '1.2'},\n",
      " 'results': [{'cell': '0473-791-896',\n",
      "              'dob': {'age': 68, 'date': '1950-10-01T18:27:18Z'},\n",
      "              'email': 'carolyn.nichols@example.com',\n",
      "              'gender': 'female',\n",
      "              'id': {'name': 'TFN', 'value': '909885589'},\n",
      "              'location': {'city': 'mildura',\n",
      "                           'coordinates': {'latitude': '-84.9902',\n",
      "                                           'longitude': '98.7994'},\n",
      "                           'postcode': 9775,\n",
      "                           'state': 'new south wales',\n",
      "                           'street': '4065 ranchview dr',\n",
      "                           'timezone': {'description': 'Kabul',\n",
      "                                        'offset': '+4:30'}},\n",
      "              'login': {'md5': '59a0db4861c1a3167322ede5d3c08728',\n",
      "                        'password': 'weiner',\n",
      "                        'salt': 'COxCyQyp',\n",
      "                        'sha1': '865efe04cfcbff0cd8a4076a527367f8dc33f8b3',\n",
      "                        'sha256': '94a70f3c66baff19baec6bb51d7c91dc67fbb5b928cb5e0e29c383b4e7e647fb',\n",
      "                        'username': 'angrygorilla563',\n",
      "                        'uuid': '2a7aeb93-b7a6-476a-a4f0-68137f0aedb1'},\n",
      "              'name': {'first': 'carolyn', 'last': 'nichols', 'title': 'mrs'},\n",
      "              'nat': 'AU',\n",
      "              'phone': '09-0688-7149',\n",
      "              'picture': {'large': 'https://randomuser.me/api/portraits/women/43.jpg',\n",
      "                          'medium': 'https://randomuser.me/api/portraits/med/women/43.jpg',\n",
      "                          'thumbnail': 'https://randomuser.me/api/portraits/thumb/women/43.jpg'},\n",
      "              'registered': {'age': 12, 'date': '2006-02-09T12:39:04Z'}}]}\n"
     ]
    }
   ],
   "source": [
    "pprint.pprint(users)"
   ]
  },
  {
   "cell_type": "code",
   "execution_count": null,
   "metadata": {},
   "outputs": [
    {
     "name": "stdout",
     "output_type": "stream",
     "text": [
      "Python 3.6.5 |Anaconda custom (64-bit)| (default, Mar 29 2018, 13:14:23) \r\n",
      "[GCC 4.2.1 Compatible Clang 4.0.1 (tags/RELEASE_401/final)] on darwin\r\n",
      "Type \"help\", \"copyright\", \"credits\" or \"license\" for more information.\r\n",
      ">>> "
     ]
    }
   ],
   "source": [
    "!/usr/bin/env python"
   ]
  },
  {
   "cell_type": "code",
   "execution_count": 27,
   "metadata": {},
   "outputs": [],
   "source": [
    "import warnings\n",
    "warnings.filterwarnings(\"ignore\")"
   ]
  },
  {
   "cell_type": "code",
   "execution_count": 3,
   "metadata": {},
   "outputs": [
    {
     "name": "stdout",
     "output_type": "stream",
     "text": [
      "Exception reporting mode: Plain\n",
      "Automatic pdb calling has been turned ON\n"
     ]
    }
   ],
   "source": [
    "%xmode Plain\n",
    "%pdb on\n",
    "\n",
    "# Other modes of xmode Verbose , Context\n",
    "# %pdb debugger runs after exception"
   ]
  },
  {
   "cell_type": "code",
   "execution_count": null,
   "metadata": {},
   "outputs": [],
   "source": [
    "## %timeit line-magic and %%timeit cell-magic"
   ]
  },
  {
   "cell_type": "code",
   "execution_count": 2,
   "metadata": {},
   "outputs": [
    {
     "name": "stdout",
     "output_type": "stream",
     "text": [
      "   1:\n",
      "import sys \n",
      "!{sys.executable} -m pip install memory_profiler\n",
      "   2: %history -n 1-4\n"
     ]
    }
   ],
   "source": [
    "%history -n 1-4"
   ]
  },
  {
   "cell_type": "code",
   "execution_count": null,
   "metadata": {},
   "outputs": [],
   "source": [
    "# OPTIONS"
   ]
  },
  {
   "cell_type": "code",
   "execution_count": 30,
   "metadata": {},
   "outputs": [],
   "source": [
    "pd.set_option('display.max_rows', 500)\n",
    "pd.set_option('display.max_columns', 500)\n",
    "pd.set_option('display.width', 1000)\n",
    "\n",
    "pd.set_option('display.max_colwidth', -1) # Shows column without truncation"
   ]
  },
  {
   "cell_type": "code",
   "execution_count": null,
   "metadata": {},
   "outputs": [],
   "source": [
    "## READING FILE WITH SKIPPING AND ONLY READ 200 ROWS "
   ]
  },
  {
   "cell_type": "code",
   "execution_count": null,
   "metadata": {},
   "outputs": [],
   "source": [
    "df =pd.read_csv('reviews_data.txt.gz', skiprows=10000, nrows=200, error_bad_lines=False)"
   ]
  },
  {
   "cell_type": "code",
   "execution_count": null,
   "metadata": {},
   "outputs": [],
   "source": [
    "#FOR SEABORN"
   ]
  },
  {
   "cell_type": "code",
   "execution_count": null,
   "metadata": {},
   "outputs": [],
   "source": [
    "plt.style.use('fivethirtyeight')\n",
    "sns.set_context('notebook') # maybe poster\n",
    "# sns.set_context('poster', font_scale=0.8) "
   ]
  },
  {
   "cell_type": "code",
   "execution_count": null,
   "metadata": {},
   "outputs": [],
   "source": [
    "flatui = [\"#9b59b6\", \"#3498db\"] # guzel renkler\n",
    "g = sns.PairGrid(df, vars=['age', 'test', 'bid', 'win', 'conversion'],\n",
    "                 hue='gender', palette=flatui)\n",
    "g.map(plt.scatter, alpha=0.8)\n",
    "g.add_legend();\n",
    "\n",
    "sns.set(rc={'figure.figsize':(15,6)})\n",
    "sns.countplot(x='bid', hue='gender', data=df, palette=flatui) #palette='Set_1'\n"
   ]
  },
  {
   "cell_type": "markdown",
   "metadata": {},
   "source": [
    "## MISSING VALUES TABLE"
   ]
  },
  {
   "cell_type": "code",
   "execution_count": 18,
   "metadata": {},
   "outputs": [],
   "source": [
    "def missing_values_table(df):\n",
    "        # Total missing values\n",
    "        mis_val = df.isnull().sum()\n",
    "        \n",
    "        # Percentage of missing values\n",
    "        mis_val_percent = 100 * df.isnull().sum() / len(df)\n",
    "        \n",
    "        # Make a table with the results\n",
    "        mis_val_table = pd.concat([mis_val, mis_val_percent], axis=1)\n",
    "        \n",
    "        # Rename the columns\n",
    "        mis_val_table_ren_columns = mis_val_table.rename(\n",
    "        columns = {0 : 'Missing Values', 1 : '% of Total Values'})\n",
    "        \n",
    "        # Sort the table by percentage of missing descending\n",
    "        mis_val_table_ren_columns = mis_val_table_ren_columns[\n",
    "            mis_val_table_ren_columns.iloc[:,1] != 0].sort_values(\n",
    "        '% of Total Values', ascending=False).round(1)\n",
    "        \n",
    "        # Print some summary information\n",
    "        print (\"Your selected dataframe has \" + str(df.shape[1]) + \" columns.\\n\"      \n",
    "            \"There are \" + str(mis_val_table_ren_columns.shape[0]) +\n",
    "              \" columns with missing values.\")\n",
    "        \n",
    "        # Return the dataframe with missing information\n",
    "        return mis_val_table_ren_columns"
   ]
  },
  {
   "cell_type": "markdown",
   "metadata": {},
   "source": [
    "## READING A FILE"
   ]
  },
  {
   "cell_type": "code",
   "execution_count": null,
   "metadata": {},
   "outputs": [],
   "source": [
    "with open('whoops.txt', 'r') as mynewfile:\n",
    "    myvariable = mynewfile.readlines()\n",
    "    \n",
    "## This context manager automatically close the file "
   ]
  },
  {
   "cell_type": "code",
   "execution_count": null,
   "metadata": {},
   "outputs": [],
   "source": [
    "## READING WITH CHUNKSIZE"
   ]
  },
  {
   "cell_type": "code",
   "execution_count": null,
   "metadata": {},
   "outputs": [],
   "source": [
    "csv_url='http://bit.ly/2cLzoxH''\n",
    "# use chunk size 500\n",
    "c_size = 500\n",
    "for gm_chunk in pd.read_csv(csv_url,chunksize=c_size):\n",
    "    print(gm_chunk.shape)"
   ]
  },
  {
   "cell_type": "code",
   "execution_count": null,
   "metadata": {},
   "outputs": [],
   "source": [
    "# FROM STR TO DATETIME\n",
    "\n",
    "a = datetime.datetime.strptime(df['Date'][0], \"%b %d %Y\").date()"
   ]
  },
  {
   "cell_type": "code",
   "execution_count": 32,
   "metadata": {},
   "outputs": [
    {
     "data": {
      "text/plain": [
       "'/Users/serdarbozoglan/Desktop/DataScience'"
      ]
     },
     "execution_count": 32,
     "metadata": {},
     "output_type": "execute_result"
    }
   ],
   "source": [
    "## CURRENT DIRECTORY\n",
    "\n",
    "import os\n",
    "cwd = os.getcwd()\n",
    "cwd"
   ]
  },
  {
   "cell_type": "code",
   "execution_count": null,
   "metadata": {},
   "outputs": [],
   "source": [
    "\n",
    "# FROM PDF TO TXT\n",
    "\n",
    "from pdfminer.pdfinterp import PDFResourceManager, PDFPageInterpreter\n",
    "from pdfminer.converter import TextConverter\n",
    "from pdfminer.layout import LAParams\n",
    "from pdfminer.pdfpage import PDFPage\n",
    "from cStringIO import StringIO\n",
    "\n",
    "\n",
    "def convert_pdf_to_txt(path):\n",
    "    rsrcmgr = PDFResourceManager()\n",
    "    retstr = StringIO()\n",
    "    codec = 'utf-8'\n",
    "    laparams = LAParams()\n",
    "    device = TextConverter(rsrcmgr, retstr, codec=codec, laparams=laparams)\n",
    "    fp = file(path, 'rb')\n",
    "    interpreter = PDFPageInterpreter(rsrcmgr, device)\n",
    "    password = \"\"\n",
    "    maxpages = 0\n",
    "    caching = True\n",
    "    pagenos=set()\n",
    "\n",
    "    for page in PDFPage.get_pages(fp, pagenos, maxpages=maxpages, password=password,caching=caching, check_extractable=True):\n",
    "        interpreter.process_page(page)\n",
    "\n",
    "    text = retstr.getvalue()\n",
    "\n",
    "    fp.close()\n",
    "    device.close()\n",
    "    retstr.close()\n",
    "    return text\n",
    "\n",
    "lone=convert_pdf_to_txt('doc_3Trademark_Transfer_Agreement.pdf')\n",
    "\n",
    "\n",
    "f=open('xxx.txt','w')\n",
    "f.write(lone)\n",
    "f.close()\n",
    "\n",
    "\n",
    "\n",
    "with open('xxx.txt') as f:\n",
    "    clean_cont = f.read().splitlines()\n"
   ]
  },
  {
   "cell_type": "code",
   "execution_count": null,
   "metadata": {},
   "outputs": [],
   "source": [
    "# Advanced CSV loading example\n",
    "data = pd.read_csv(\n",
    "        \"data/files/complex_data_example.tsv\",      # relative python path to subdirectory\n",
    "        sep='\\t'           # Tab-separated value file.\n",
    "        quotechar=\"'\",        # single quote allowed as quote character\n",
    "        dtype={\"salary\": int},             # Parse the salary column as an integer \n",
    "        usecols=['name', 'birth_date', 'salary'].   # Only load the three columns specified.\n",
    "        parse_dates=['birth_date'],     # Intepret the birth_date column as a date\n",
    "        skiprows=10,         # Skip the first 10 rows of the file\n",
    "        na_values=['.', '??']       # Take any '.' or '??' values as NA\n",
    ")"
   ]
  },
  {
   "cell_type": "code",
   "execution_count": null,
   "metadata": {},
   "outputs": [],
   "source": [
    "N = len(y_test)\n",
    "np.sum(y_pred == y_test)/N"
   ]
  },
  {
   "cell_type": "code",
   "execution_count": 1,
   "metadata": {},
   "outputs": [],
   "source": [
    "# Figure size ve xticks/yticks boyutu\n",
    "plt.rcParams['figure.figsize'] = (10,8)\n",
    "plt.tick_params(labelsize=15)\n",
    "\n",
    "\n",
    "plt.rcParams['figure.figsize'] =(8,6)\n",
    "params = {'xticks.font': 16,}\n",
    "flatui = [\"#9b59b6\", \"#3498db\"]\n",
    "\n",
    "sns.countplot(x ='y', data=df,palette=flatui)\n",
    "plt.xticks(fontsize=17), plt.yticks(fontsize=17)\n",
    "plt.xlabel('Target', fontsize=17), plt.ylabel('Count', fontsize=17)\n",
    "plt.legend(loc='upper right', borderpad=-2)\n",
    "sns.despine()"
   ]
  },
  {
   "cell_type": "code",
   "execution_count": null,
   "metadata": {},
   "outputs": [],
   "source": [
    "with open('bank.csv', 'r') as file: ## Reads file at once\n",
    "    print(file.read())"
   ]
  },
  {
   "cell_type": "code",
   "execution_count": null,
   "metadata": {},
   "outputs": [],
   "source": [
    "from itertools import islice # Partial reading from the dataset\n",
    "with open(\"bank-full.csv\") as myfile:\n",
    "    head = list(islice(myfile, 5))\n",
    "print (head)"
   ]
  },
  {
   "cell_type": "code",
   "execution_count": null,
   "metadata": {},
   "outputs": [],
   "source": [
    "def get_dummies(dataset):\n",
    "    for var in categorical:\n",
    "        categorical_list = \"var\"+\"_\"+var \n",
    "        categorical_list = pd.get_dummies(dataset[var], prefix = var,)\n",
    "        temp_df = dataset.join(categorical_list)\n",
    "        dataset = temp_df\n",
    "    \n",
    "    temp_df_cat_cols = dataset.columns.values.tolist()\n",
    "    kept_columns = [col for col in temp_df_cat_cols if col not in categorical]\n",
    "    dataset = dataset[kept_columns]\n",
    "    return dataset"
   ]
  },
  {
   "cell_type": "code",
   "execution_count": null,
   "metadata": {},
   "outputs": [],
   "source": [
    "plt.subplot(1,2,1)\n",
    "plt.plot(x,y, 'r')\n",
    "\n",
    "plt.subplot(1,2,2)\n",
    "plt.plot(y,x, 'b')"
   ]
  },
  {
   "cell_type": "code",
   "execution_count": null,
   "metadata": {},
   "outputs": [],
   "source": [
    "fig, axes = plt.subplots(nrows=1, ncols=2)\n",
    "\n",
    "axes[0].plot(x,y, 'r');\n",
    "axes[0].set_title('FIRST PLOT')\n",
    "\n",
    "axes[1].plot(y,x, 'g')\n",
    "axes[1].set_title('SECOND PLOT')\n",
    "\n",
    "plt.tight_layout()"
   ]
  },
  {
   "cell_type": "code",
   "execution_count": null,
   "metadata": {},
   "outputs": [],
   "source": [
    "import qgrid\n",
    "qgrid_widget = qgrid.show_grid(df, show_toolbar=True)\n",
    "qgrid_widget\n",
    "df1 = qgrid_widget.get_changed_df()"
   ]
  }
 ],
 "metadata": {
  "kernelspec": {
   "display_name": "Python 3",
   "language": "python",
   "name": "python3"
  },
  "language_info": {
   "codemirror_mode": {
    "name": "ipython",
    "version": 3
   },
   "file_extension": ".py",
   "mimetype": "text/x-python",
   "name": "python",
   "nbconvert_exporter": "python",
   "pygments_lexer": "ipython3",
   "version": "3.7.3"
  }
 },
 "nbformat": 4,
 "nbformat_minor": 2
}
