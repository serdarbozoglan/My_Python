{
 "cells": [
  {
   "cell_type": "code",
   "execution_count": 12,
   "metadata": {},
   "outputs": [
    {
     "name": "stdout",
     "output_type": "stream",
     "text": [
      "Collecting scrabble\n",
      "\u001b[?25l  Downloading https://files.pythonhosted.org/packages/79/37/4eda2ed62b1c017f5bf8a3778a35833bce650a49deb3524f75a6d2cae351/scrabble-1.3.tar.gz (498kB)\n",
      "\u001b[K     |████████████████████████████████| 501kB 2.2MB/s eta 0:00:01\n",
      "\u001b[?25hBuilding wheels for collected packages: scrabble\n",
      "  Building wheel for scrabble (setup.py) ... \u001b[?25ldone\n",
      "\u001b[?25h  Created wheel for scrabble: filename=scrabble-1.3-cp36-none-any.whl size=501706 sha256=cc227f980517e86a4d6fcc973f5c1b59aef8654bdcf4bb112e32c466c378759e\n",
      "  Stored in directory: /Users/serdar/Library/Caches/pip/wheels/92/9d/53/29fe4276049aa29e34ddcd032e99753b8771d56cff11ec6757\n",
      "Successfully built scrabble\n",
      "Installing collected packages: scrabble\n",
      "Successfully installed scrabble-1.3\n"
     ]
    }
   ],
   "source": [
    "!pip install scrabble"
   ]
  },
  {
   "cell_type": "code",
   "execution_count": 1,
   "metadata": {},
   "outputs": [],
   "source": [
    "import random\n"
   ]
  },
  {
   "cell_type": "code",
   "execution_count": 4,
   "metadata": {},
   "outputs": [
    {
     "name": "stdout",
     "output_type": "stream",
     "text": [
      "Your lucky number is :\n",
      "5\n"
     ]
    }
   ],
   "source": [
    "print(\"Your lucky number is :\")\n",
    "print(random.randint(1,6))"
   ]
  },
  {
   "cell_type": "code",
   "execution_count": 5,
   "metadata": {},
   "outputs": [],
   "source": [
    "WORD_LIST = 'sowpods.txt'"
   ]
  },
  {
   "cell_type": "code",
   "execution_count": 8,
   "metadata": {},
   "outputs": [],
   "source": [
    "wordlist = open(WORD_LIST).readlines()"
   ]
  },
  {
   "cell_type": "code",
   "execution_count": 69,
   "metadata": {},
   "outputs": [],
   "source": [
    "wordlist = [word.lower().strip() for word in wordlist] # strip for removing end of line"
   ]
  },
  {
   "cell_type": "code",
   "execution_count": 19,
   "metadata": {},
   "outputs": [
    {
     "data": {
      "text/plain": [
       "267751"
      ]
     },
     "execution_count": 19,
     "metadata": {},
     "output_type": "execute_result"
    }
   ],
   "source": [
    "len(wordlist)"
   ]
  },
  {
   "cell_type": "code",
   "execution_count": 10,
   "metadata": {},
   "outputs": [],
   "source": [
    "scores = {\"a\":1, \"c\":3, \"b\":3, \"e\":1, \"d\":2, \"g\":2,\n",
    "         \"f\":4, \"i\":1, \"h\":4, \"k\":5, \"j\":8, \"m\":3,\n",
    "         \"l\":1, \"o\":1, \"n\":1, \"q\":10, \"p\":3, \"s\":1,\n",
    "         \"r\":1, \"u\":1, \"t\":1, \"w\":4, \"v\":4, \"y\":4, \"x\":8, \"Z\":10}"
   ]
  },
  {
   "cell_type": "code",
   "execution_count": 13,
   "metadata": {},
   "outputs": [],
   "source": [
    "import scrabble"
   ]
  },
  {
   "cell_type": "code",
   "execution_count": 14,
   "metadata": {},
   "outputs": [],
   "source": [
    "## print all the words containing \"uu\"\n",
    "\n",
    "words__includes_uu = [word for word in wordlist if 'uu' in word]"
   ]
  },
  {
   "cell_type": "code",
   "execution_count": 15,
   "metadata": {},
   "outputs": [
    {
     "data": {
      "text/plain": [
       "['busuuti',\n",
       " 'busuutis',\n",
       " 'carduus',\n",
       " 'carduuses',\n",
       " 'continuum',\n",
       " 'continuums',\n",
       " 'duumvir',\n",
       " 'duumviral',\n",
       " 'duumvirate',\n",
       " 'duumvirates',\n",
       " 'duumviri',\n",
       " 'duumvirs',\n",
       " 'individuum',\n",
       " 'lituus',\n",
       " 'lituuses',\n",
       " 'menstruum',\n",
       " 'menstruums',\n",
       " 'mutuum',\n",
       " 'mutuums',\n",
       " 'muumuu',\n",
       " 'muumuus',\n",
       " 'paramenstruum',\n",
       " 'paramenstruums',\n",
       " 'residuum',\n",
       " 'residuums',\n",
       " 'squush',\n",
       " 'squushed',\n",
       " 'squushes',\n",
       " 'squushing',\n",
       " 'triduum',\n",
       " 'triduums',\n",
       " 'ultravacuum',\n",
       " 'ultravacuums',\n",
       " 'vacuum',\n",
       " 'vacuumed',\n",
       " 'vacuuming',\n",
       " 'vacuums',\n",
       " 'weltanschauung',\n",
       " 'weltanschauungs']"
      ]
     },
     "execution_count": 15,
     "metadata": {},
     "output_type": "execute_result"
    }
   ],
   "source": [
    "words__includes_uu"
   ]
  },
  {
   "cell_type": "code",
   "execution_count": 27,
   "metadata": {},
   "outputs": [],
   "source": [
    "from collections import Counter"
   ]
  },
  {
   "cell_type": "code",
   "execution_count": 36,
   "metadata": {},
   "outputs": [],
   "source": [
    "a = Counter(set('abc'))"
   ]
  },
  {
   "cell_type": "code",
   "execution_count": 37,
   "metadata": {},
   "outputs": [
    {
     "name": "stdout",
     "output_type": "stream",
     "text": [
      "1\n",
      "1\n",
      "1\n"
     ]
    }
   ],
   "source": [
    "for i in a.values():\n",
    "    print(i)"
   ]
  },
  {
   "cell_type": "code",
   "execution_count": 56,
   "metadata": {},
   "outputs": [
    {
     "name": "stdout",
     "output_type": "stream",
     "text": [
      "There are no English words with a double : q\n",
      "There are no English words with a double : x\n"
     ]
    }
   ],
   "source": [
    "## print all letters than never appear double\n",
    "\n",
    "import string \n",
    "\n",
    "for letter in string.ascii_lowercase:\n",
    "    exists = False\n",
    "    for word in wordlist:\n",
    "        if letter * 2 in word:\n",
    "            exists = True\n",
    "            break\n",
    "    if not exists:\n",
    "        print (\"There are no English words with a double :\", letter)"
   ]
  },
  {
   "cell_type": "code",
   "execution_count": 53,
   "metadata": {},
   "outputs": [
    {
     "name": "stdout",
     "output_type": "stream",
     "text": [
      "['ab', 'abdomen', 'abdomens', 'abduce', 'abducens', 'abducent', 'abduces', 'abducing', 'abduct', 'abducting']\n"
     ]
    }
   ],
   "source": [
    "## print all words without letter repitition\n",
    "\n",
    "single_letters = []\n",
    "import string \n",
    "\n",
    "for word in wordlist:\n",
    "    letters = Counter((word))\n",
    "    exists = False\n",
    "    for value in letters.values():\n",
    "        if value > 1:\n",
    "            exists = True\n",
    "            break\n",
    "    if not exists:\n",
    "        single_letters.append(word)\n",
    "        \n",
    "print(single_letters[:10])"
   ]
  },
  {
   "cell_type": "code",
   "execution_count": 68,
   "metadata": {},
   "outputs": [
    {
     "data": {
      "text/plain": [
       "True"
      ]
     },
     "execution_count": 68,
     "metadata": {},
     "output_type": "execute_result"
    }
   ],
   "source": [
    "'a' and 'k' in 'ankara'"
   ]
  },
  {
   "cell_type": "code",
   "execution_count": 80,
   "metadata": {},
   "outputs": [
    {
     "data": {
      "text/plain": [
       "['aboideau',\n",
       " 'aboideaus',\n",
       " 'aboideaux',\n",
       " 'aboiteau',\n",
       " 'aboiteaus',\n",
       " 'aboiteaux',\n",
       " 'abortuaries',\n",
       " 'absolutise',\n",
       " 'absolutised',\n",
       " 'absolutises']"
      ]
     },
     "execution_count": 80,
     "metadata": {},
     "output_type": "execute_result"
    }
   ],
   "source": [
    "## print all the words which contains all vowels ('aeiou')\n",
    "vowels = 'aeiou'\n",
    "def has_all_vowels(word):\n",
    "    for vowel in vowels:\n",
    "        if vowel not in word:\n",
    "            return False\n",
    "    return True\n",
    "        \n",
    "words_with_all_vowels = [word for word in wordlist if has_all_vowels(word)]\n",
    "words_with_all_vowels[:10]"
   ]
  },
  {
   "cell_type": "code",
   "execution_count": 78,
   "metadata": {},
   "outputs": [
    {
     "data": {
      "text/plain": [
       "3405"
      ]
     },
     "execution_count": 78,
     "metadata": {},
     "output_type": "execute_result"
    }
   ],
   "source": [
    "len(words_with_all_vowels)"
   ]
  },
  {
   "cell_type": "code",
   "execution_count": 108,
   "metadata": {},
   "outputs": [
    {
     "name": "stdout",
     "output_type": "stream",
     "text": [
      "rotavator\n"
     ]
    }
   ],
   "source": [
    "## what is the longest palindrom in english\n",
    "\n",
    "longest_palindrome = ''\n",
    "for word in wordlist:\n",
    "    if word == word[::-1] and len(word) > len(longest_palindrome):\n",
    "            longest_palindrome = word\n",
    "print(longest_palindrome)            "
   ]
  },
  {
   "cell_type": "code",
   "execution_count": 107,
   "metadata": {},
   "outputs": [
    {
     "name": "stdout",
     "output_type": "stream",
     "text": [
      "rotavator\n"
     ]
    }
   ],
   "source": [
    "longest_palindrome = ''\n",
    "for word in wordlist:\n",
    "    if list(word) == list(reversed(word)) and len(word) > len(longest_palindrome):\n",
    "            longest_palindrome = word\n",
    "print(longest_palindrome) "
   ]
  },
  {
   "cell_type": "code",
   "execution_count": 103,
   "metadata": {},
   "outputs": [
    {
     "data": {
      "text/plain": [
       "'rotavator'"
      ]
     },
     "execution_count": 103,
     "metadata": {},
     "output_type": "execute_result"
    }
   ],
   "source": [
    "## what is the longest palindrom in english\n",
    "\n",
    "palindrom_list = []\n",
    "for word in wordlist:\n",
    "    if word == word[::-1]:\n",
    "        palindrom_list.append(word)\n",
    "        \n",
    "palindrom_length ={}\n",
    "\n",
    "for word in palindrom_list:\n",
    "    palindrom_length[word] = len(word)\n",
    "    \n",
    "import operator\n",
    "max(palindrom_length.items(), key=operator.itemgetter(1))[0]"
   ]
  },
  {
   "cell_type": "code",
   "execution_count": 111,
   "metadata": {},
   "outputs": [
    {
     "data": {
      "text/plain": [
       "['aa',\n",
       " 'aba',\n",
       " 'abba',\n",
       " 'acca',\n",
       " 'aga',\n",
       " 'aha',\n",
       " 'aia',\n",
       " 'aka',\n",
       " 'ala',\n",
       " 'alula',\n",
       " 'ama',\n",
       " 'ana',\n",
       " 'anana',\n",
       " 'anna',\n",
       " 'araara',\n",
       " 'ataata',\n",
       " 'aua',\n",
       " 'ava',\n",
       " 'awa',\n",
       " 'bib',\n",
       " 'bob',\n",
       " 'boob',\n",
       " 'bub',\n",
       " 'civic',\n",
       " 'dad',\n",
       " 'deed',\n",
       " 'degged',\n",
       " 'deified',\n",
       " 'deked',\n",
       " 'deled',\n",
       " 'denned',\n",
       " 'dered',\n",
       " 'dewed',\n",
       " 'did',\n",
       " 'dod',\n",
       " 'dud',\n",
       " 'ecce',\n",
       " 'ee',\n",
       " 'eke',\n",
       " 'eme',\n",
       " 'ene',\n",
       " 'ere',\n",
       " 'esse',\n",
       " 'eve',\n",
       " 'ewe',\n",
       " 'eye',\n",
       " 'gag',\n",
       " 'gig',\n",
       " 'goog',\n",
       " 'hadedah',\n",
       " 'hah',\n",
       " 'hajjah',\n",
       " 'halalah',\n",
       " 'hallah',\n",
       " 'heh',\n",
       " 'hoh',\n",
       " 'huh',\n",
       " 'iwi',\n",
       " 'kaiak',\n",
       " 'kak',\n",
       " 'kayak',\n",
       " 'keek',\n",
       " 'kook',\n",
       " 'lemel',\n",
       " 'level',\n",
       " 'madam',\n",
       " 'malam',\n",
       " 'mallam',\n",
       " 'mam',\n",
       " 'marram',\n",
       " 'mem',\n",
       " 'mim',\n",
       " 'minim',\n",
       " 'mm',\n",
       " 'mom',\n",
       " 'mum',\n",
       " 'naan',\n",
       " 'nan',\n",
       " 'non',\n",
       " 'noon',\n",
       " 'nun',\n",
       " 'obo',\n",
       " 'oho',\n",
       " 'ono',\n",
       " 'oo',\n",
       " 'oppo',\n",
       " 'otto',\n",
       " 'oxo',\n",
       " 'pap',\n",
       " 'peep',\n",
       " 'pep',\n",
       " 'pip',\n",
       " 'poop',\n",
       " 'pop',\n",
       " 'pullup',\n",
       " 'pup',\n",
       " 'radar',\n",
       " 'redder',\n",
       " 'refer',\n",
       " 'reifier',\n",
       " 'repaper',\n",
       " 'reviver',\n",
       " 'rotator',\n",
       " 'rotavator',\n",
       " 'rotor',\n",
       " 'sagas',\n",
       " 'samas',\n",
       " 'sedes',\n",
       " 'sees',\n",
       " 'seities',\n",
       " 'seles',\n",
       " 'selles',\n",
       " 'sememes',\n",
       " 'semes',\n",
       " 'seres',\n",
       " 'serres',\n",
       " 'sesses',\n",
       " 'sexes',\n",
       " 'shahs',\n",
       " 'simis',\n",
       " 'siris',\n",
       " 'sis',\n",
       " 'solos',\n",
       " 'sos',\n",
       " 'stats',\n",
       " 'stets',\n",
       " 'stots',\n",
       " 'succus',\n",
       " 'sulus',\n",
       " 'sus',\n",
       " 'susus',\n",
       " 'tallat',\n",
       " 'tat',\n",
       " 'tenet',\n",
       " 'terret',\n",
       " 'tet',\n",
       " 'tirrit',\n",
       " 'tit',\n",
       " 'toot',\n",
       " 'torot',\n",
       " 'tot',\n",
       " 'tut',\n",
       " 'ulu',\n",
       " 'umu',\n",
       " 'utu',\n",
       " 'vav',\n",
       " 'waw',\n",
       " 'wow',\n",
       " 'yay',\n",
       " 'ziz',\n",
       " 'zuz',\n",
       " 'zzz']"
      ]
     },
     "execution_count": 111,
     "metadata": {},
     "output_type": "execute_result"
    }
   ],
   "source": [
    "# Pallindrome \n",
    "[word for word in wordlist if (word==word[::-1])]"
   ]
  },
  {
   "cell_type": "code",
   "execution_count": null,
   "metadata": {},
   "outputs": [],
   "source": []
  }
 ],
 "metadata": {
  "kernelspec": {
   "display_name": "Python 3",
   "language": "python",
   "name": "python3"
  },
  "language_info": {
   "codemirror_mode": {
    "name": "ipython",
    "version": 3
   },
   "file_extension": ".py",
   "mimetype": "text/x-python",
   "name": "python",
   "nbconvert_exporter": "python",
   "pygments_lexer": "ipython3",
   "version": "3.6.7"
  }
 },
 "nbformat": 4,
 "nbformat_minor": 2
}
