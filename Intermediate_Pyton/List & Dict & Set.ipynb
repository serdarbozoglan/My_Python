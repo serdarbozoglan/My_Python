{
 "cells": [
  {
   "cell_type": "code",
   "execution_count": 11,
   "metadata": {},
   "outputs": [],
   "source": [
    "import time"
   ]
  },
  {
   "cell_type": "code",
   "execution_count": 5,
   "metadata": {},
   "outputs": [],
   "source": [
    "my_words = [line.strip() for line in open('sonnet_words.txt', 'r').readlines()]\n",
    "word_list = [line.strip() for line in open('sowpods.txt', 'r').readlines()]"
   ]
  },
  {
   "cell_type": "code",
   "execution_count": 7,
   "metadata": {},
   "outputs": [],
   "source": [
    "# We are trying to find the words which exists in sonnet but not in sowpod"
   ]
  },
  {
   "cell_type": "code",
   "execution_count": 6,
   "metadata": {},
   "outputs": [],
   "source": [
    "counter = 0"
   ]
  },
  {
   "cell_type": "code",
   "execution_count": 13,
   "metadata": {},
   "outputs": [
    {
     "name": "stdout",
     "output_type": "stream",
     "text": [
      "ADDETH\n",
      "AMAZETH\n",
      "APRIL\n",
      "BEATED\n",
      "BURIEST\n",
      "CONVERTEST\n",
      "DEBATETH\n",
      "DECEIVEST\n",
      "DEPARTEST\n",
      "DIEST\n",
      "DISDAINETH\n",
      "FADETH\n",
      "GAZETH\n",
      "GLUTTONING\n",
      "GOEST\n",
      "HATETH\n",
      "JUNES\n",
      "MAKETH\n",
      "MATCHETH\n",
      "NURSETH\n",
      "POSSESSETH\n",
      "PRESENTETH\n",
      "PRIVILAGE\n",
      "RECEIVEST\n",
      "REELETH\n",
      "REFUSEST\n",
      "RENEWEST\n",
      "RESPOSE\n",
      "REVIEWEST\n",
      "SATURN\n",
      "SEETING\n",
      "STAINETH\n",
      "TEACHEST\n",
      "TEMPTETH\n",
      "USEST\n",
      "VIEWEST\n"
     ]
    }
   ],
   "source": [
    "start = time.time()\n",
    "for word in my_words:\n",
    "    if word not in word_list:\n",
    "        print(word)\n",
    "        counter +=1\n",
    "stop = time.time()"
   ]
  },
  {
   "cell_type": "code",
   "execution_count": 15,
   "metadata": {},
   "outputs": [
    {
     "name": "stdout",
     "output_type": "stream",
     "text": [
      "There are 72 words which does not exist in sowpod but in sonnet\n",
      "Time elapsed 4.9 seconds\n"
     ]
    }
   ],
   "source": [
    "print(f\"There are {counter} words which does not exist in sowpod but in sonnet\")\n",
    "print(\"Time elapsed %.1f seconds\"%(stop-start))"
   ]
  },
  {
   "cell_type": "code",
   "execution_count": 16,
   "metadata": {},
   "outputs": [],
   "source": [
    "## Lets make it better interms of time"
   ]
  },
  {
   "cell_type": "code",
   "execution_count": 18,
   "metadata": {},
   "outputs": [],
   "source": [
    "word_dict = dict((word, 1) for word in word_list)\n",
    "# we just assign value 1 for every word, we won't use it but the keys"
   ]
  },
  {
   "cell_type": "code",
   "execution_count": 19,
   "metadata": {},
   "outputs": [
    {
     "name": "stdout",
     "output_type": "stream",
     "text": [
      "ADDETH\n",
      "AMAZETH\n",
      "APRIL\n",
      "BEATED\n",
      "BURIEST\n",
      "CONVERTEST\n",
      "DEBATETH\n",
      "DECEIVEST\n",
      "DEPARTEST\n",
      "DIEST\n",
      "DISDAINETH\n",
      "FADETH\n",
      "GAZETH\n",
      "GLUTTONING\n",
      "GOEST\n",
      "HATETH\n",
      "JUNES\n",
      "MAKETH\n",
      "MATCHETH\n",
      "NURSETH\n",
      "POSSESSETH\n",
      "PRESENTETH\n",
      "PRIVILAGE\n",
      "RECEIVEST\n",
      "REELETH\n",
      "REFUSEST\n",
      "RENEWEST\n",
      "RESPOSE\n",
      "REVIEWEST\n",
      "SATURN\n",
      "SEETING\n",
      "STAINETH\n",
      "TEACHEST\n",
      "TEMPTETH\n",
      "USEST\n",
      "VIEWEST\n",
      "There are 108 words which does not exist in sowpod but in sonnet\n",
      "Time elapsed 0.0 seconds\n"
     ]
    }
   ],
   "source": [
    "start = time.time()\n",
    "for word in my_words:\n",
    "    if word not in word_dict:\n",
    "        print(word)\n",
    "        counter +=1\n",
    "stop = time.time()\n",
    "print(f\"There are {counter} words which does not exist in sowpod but in sonnet\")\n",
    "print(\"Time elapsed %.1f seconds\"%(stop-start))"
   ]
  },
  {
   "cell_type": "code",
   "execution_count": 20,
   "metadata": {},
   "outputs": [],
   "source": [
    "## We need exactly need is in fact 'set' becuase we do not need order and value "
   ]
  },
  {
   "cell_type": "code",
   "execution_count": 23,
   "metadata": {},
   "outputs": [],
   "source": [
    "word_set = set(word_list)"
   ]
  },
  {
   "cell_type": "code",
   "execution_count": 24,
   "metadata": {},
   "outputs": [
    {
     "name": "stdout",
     "output_type": "stream",
     "text": [
      "ADDETH\n",
      "AMAZETH\n",
      "APRIL\n",
      "BEATED\n",
      "BURIEST\n",
      "CONVERTEST\n",
      "DEBATETH\n",
      "DECEIVEST\n",
      "DEPARTEST\n",
      "DIEST\n",
      "DISDAINETH\n",
      "FADETH\n",
      "GAZETH\n",
      "GLUTTONING\n",
      "GOEST\n",
      "HATETH\n",
      "JUNES\n",
      "MAKETH\n",
      "MATCHETH\n",
      "NURSETH\n",
      "POSSESSETH\n",
      "PRESENTETH\n",
      "PRIVILAGE\n",
      "RECEIVEST\n",
      "REELETH\n",
      "REFUSEST\n",
      "RENEWEST\n",
      "RESPOSE\n",
      "REVIEWEST\n",
      "SATURN\n",
      "SEETING\n",
      "STAINETH\n",
      "TEACHEST\n",
      "TEMPTETH\n",
      "USEST\n",
      "VIEWEST\n",
      "There are 180 words which does not exist in sowpod but in sonnet\n",
      "Time elapsed 0.0 seconds\n"
     ]
    }
   ],
   "source": [
    "start = time.time()\n",
    "for word in my_words:\n",
    "    if word not in word_set:\n",
    "        print(word)\n",
    "        counter +=1\n",
    "stop = time.time()\n",
    "print(f\"There are {counter} words which does not exist in sowpod but in sonnet\")\n",
    "print(\"Time elapsed %.1f seconds\"%(stop-start))"
   ]
  },
  {
   "cell_type": "code",
   "execution_count": null,
   "metadata": {},
   "outputs": [],
   "source": []
  }
 ],
 "metadata": {
  "kernelspec": {
   "display_name": "Python 3",
   "language": "python",
   "name": "python3"
  },
  "language_info": {
   "codemirror_mode": {
    "name": "ipython",
    "version": 3
   },
   "file_extension": ".py",
   "mimetype": "text/x-python",
   "name": "python",
   "nbconvert_exporter": "python",
   "pygments_lexer": "ipython3",
   "version": "3.6.7"
  }
 },
 "nbformat": 4,
 "nbformat_minor": 2
}
