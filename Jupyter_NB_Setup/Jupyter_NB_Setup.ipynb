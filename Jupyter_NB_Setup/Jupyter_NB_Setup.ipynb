{
 "cells": [
  {
   "cell_type": "markdown",
   "metadata": {},
   "source": [
    "## EXECUTING SHELL COMMANDS"
   ]
  },
  {
   "cell_type": "markdown",
   "metadata": {},
   "source": [
    "https://towardsdatascience.com/bringing-the-best-out-of-jupyter-notebooks-for-data-science-f0871519ca29"
   ]
  },
  {
   "cell_type": "markdown",
   "metadata": {},
   "source": [
    "the Jupyter Notebook gives us the ease to execute shell commands from within the notebook by placing an extra `!` before the commands. Any command that works at the command-line can be used in IPython by prefixing it with the ! character."
   ]
  },
  {
   "cell_type": "code",
   "execution_count": 8,
   "metadata": {},
   "outputs": [
    {
     "name": "stdout",
     "output_type": "stream",
     "text": [
      "Jupyter_NB_Setup.ipynb       \u001b[34msample_file2\u001b[m\u001b[m\r\n",
      "Sample_file5.txt             \u001b[34msample_file3\u001b[m\u001b[m\r\n",
      "\u001b[34mjupyter_contrib_nbextensions\u001b[m\u001b[m train.csv\r\n",
      "\u001b[34msample_file1\u001b[m\u001b[m\r\n"
     ]
    }
   ],
   "source": [
    "!ls"
   ]
  },
  {
   "cell_type": "code",
   "execution_count": 9,
   "metadata": {},
   "outputs": [
    {
     "name": "stdout",
     "output_type": "stream",
     "text": [
      "/Users/serdarbozoglan/Desktop/DataScience/13 Python/JUPYTER_NB_Customize\r\n"
     ]
    }
   ],
   "source": [
    "!pwd"
   ]
  },
  {
   "cell_type": "code",
   "execution_count": 10,
   "metadata": {},
   "outputs": [
    {
     "name": "stdout",
     "output_type": "stream",
     "text": [
      "Hello World\r\n"
     ]
    }
   ],
   "source": [
    "!echo \"Hello World\""
   ]
  },
  {
   "cell_type": "code",
   "execution_count": 11,
   "metadata": {},
   "outputs": [],
   "source": [
    "files = !ls"
   ]
  },
  {
   "cell_type": "code",
   "execution_count": 12,
   "metadata": {},
   "outputs": [
    {
     "data": {
      "text/plain": [
       "['Jupyter_NB_Setup.ipynb',\n",
       " 'Sample_file5.txt',\n",
       " 'jupyter_contrib_nbextensions',\n",
       " 'sample_file1',\n",
       " 'sample_file2',\n",
       " 'sample_file3',\n",
       " 'train.csv']"
      ]
     },
     "execution_count": 12,
     "metadata": {},
     "output_type": "execute_result"
    }
   ],
   "source": [
    "files"
   ]
  },
  {
   "cell_type": "code",
   "execution_count": 13,
   "metadata": {},
   "outputs": [
    {
     "name": "stdout",
     "output_type": "stream",
     "text": [
      "['Jupyter_NB_Setup.ipynb', 'Sample_file5.txt', 'jupyter_contrib_nbextensions', 'sample_file1', 'sample_file2', 'sample_file3', 'train.csv']\n"
     ]
    }
   ],
   "source": [
    "print(files)"
   ]
  },
  {
   "cell_type": "code",
   "execution_count": 14,
   "metadata": {},
   "outputs": [
    {
     "data": {
      "text/plain": [
       "IPython.utils.text.SList"
      ]
     },
     "execution_count": 14,
     "metadata": {},
     "output_type": "execute_result"
    }
   ],
   "source": [
    "type(files)"
   ]
  },
  {
   "cell_type": "code",
   "execution_count": 15,
   "metadata": {},
   "outputs": [],
   "source": [
    "directory = !pwd"
   ]
  },
  {
   "cell_type": "code",
   "execution_count": 16,
   "metadata": {},
   "outputs": [
    {
     "name": "stdout",
     "output_type": "stream",
     "text": [
      "['/Users/serdarbozoglan/Desktop/DataScience/13 Python/JUPYTER_NB_Customize']\n"
     ]
    }
   ],
   "source": [
    "print(directory)"
   ]
  },
  {
   "cell_type": "markdown",
   "metadata": {},
   "source": [
    "## JUPYTER THEMES"
   ]
  },
  {
   "cell_type": "markdown",
   "metadata": {},
   "source": [
    "https://github.com/dunovank/jupyter-themes"
   ]
  },
  {
   "cell_type": "code",
   "execution_count": null,
   "metadata": {},
   "outputs": [],
   "source": [
    "!conda install -c conda-forge jupyterthemes"
   ]
  },
  {
   "cell_type": "code",
   "execution_count": 6,
   "metadata": {},
   "outputs": [],
   "source": [
    "!jt -t grade3"
   ]
  },
  {
   "cell_type": "code",
   "execution_count": 47,
   "metadata": {},
   "outputs": [
    {
     "name": "stdout",
     "output_type": "stream",
     "text": [
      "Reset css and font defaults in:\r\n",
      "/Users/serdarbozoglan/.jupyter/custom &\r\n",
      "/Users/serdarbozoglan/Library/Jupyter/nbextensions\r\n"
     ]
    }
   ],
   "source": [
    "## Restore the original theme\n",
    "!jt -r"
   ]
  },
  {
   "cell_type": "code",
   "execution_count": null,
   "metadata": {},
   "outputs": [],
   "source": [
    "# list available themes\n",
    "# onedork | grade3 | oceans16 | chesterish | monokai | solarizedl | solarizedd\n",
    "jt -l\n",
    "\n",
    "# select theme...\n",
    "jt -t chesterish\n",
    "\n",
    "# restore default theme\n",
    "# NOTE: Need to delete browser cache after running jt -r\n",
    "# If this doesn't work, try starting a new notebook session.\n",
    "jt -r\n",
    "\n",
    "# toggle toolbar ON and notebook name ON\n",
    "jt -t grade3 -T -N\n",
    "\n",
    "# toggle kernel logo.  kernel logo is in same container as name\n",
    "# toggled with -N.  That means that making the kernel logo visible is\n",
    "# pointless without also making the name visible\n",
    "jt -t grade3 -N -kl\n",
    "\n",
    "# set code font to 'Roboto Mono' 12pt\n",
    "# (see monospace font table below)\n",
    "jt -t onedork -f roboto -fs 12\n",
    "\n",
    "# set code font to Fira Mono, 11.5pt\n",
    "# 3digit font-sizes get converted into float (115-->11.5)\n",
    "# 2digit font-sizes > 25 get converted into float (85-->8.5)\n",
    "jt -t solarizedd -f fira -fs 115\n",
    "\n",
    "# set font/font-size of markdown (text cells) and notebook (interface)\n",
    "# see sans-serif & serif font tables below\n",
    "jt -t oceans16 -tf merriserif -tfs 10 -nf ptsans -nfs 13\n",
    "\n",
    "# adjust cell width (% screen width) and line height\n",
    "jt -t chesterish -cellw 90% -lineh 170\n",
    "\n",
    "# or set the cell width in pixels by leaving off the '%' sign\n",
    "jt -t solarizedl -cellw 860\n",
    "\n",
    "# fix the container-margins on the intro page (defaults to 'auto')\n",
    "jt -t monokai -m 200\n",
    "\n",
    "# adjust cursor width (in px) and make cursor red\n",
    "# options: b (blue), o (orange), r (red), p (purple), g (green), x (font color)\n",
    "jt -t oceans16 -cursc r -cursw 5\n",
    "\n",
    "# choose alternate prompt layout (narrower/no numbers)\n",
    "jt -t grade3 -altp\n",
    "\n",
    "# my two go-to styles\n",
    "# dark\n",
    "jt -t onedork -fs 95 -altp -tfs 11 -nfs 115 -cellw 88% -T\n",
    "# light\n",
    "jt -t grade3 -fs 95 -altp -tfs 11 -nfs 115 -cellw 88% -T"
   ]
  },
  {
   "cell_type": "code",
   "execution_count": 41,
   "metadata": {},
   "outputs": [
    {
     "name": "stdout",
     "output_type": "stream",
     "text": [
      "Available Themes: \r\n",
      "   chesterish\r\n",
      "   grade3\r\n",
      "   gruvboxd\r\n",
      "   gruvboxl\r\n",
      "   monokai\r\n",
      "   oceans16\r\n",
      "   onedork\r\n",
      "   solarizedd\r\n",
      "   solarizedl\r\n"
     ]
    }
   ],
   "source": [
    "!jt -l"
   ]
  },
  {
   "cell_type": "code",
   "execution_count": 45,
   "metadata": {},
   "outputs": [],
   "source": [
    "#!jt -t grade3 -tf merriserif -tfs 12 -nf ptsans -nfs 12 \n",
    "!jt -t grade3 -ofs 10\n",
    "!jt -t grade3 -T -N"
   ]
  },
  {
   "cell_type": "code",
   "execution_count": 44,
   "metadata": {},
   "outputs": [
    {
     "name": "stdout",
     "output_type": "stream",
     "text": [
      "Reset css and font defaults in:\r\n",
      "/Users/serdarbozoglan/.jupyter/custom &\r\n",
      "/Users/serdarbozoglan/Library/Jupyter/nbextensions\r\n"
     ]
    }
   ],
   "source": [
    "!jt -r"
   ]
  },
  {
   "cell_type": "code",
   "execution_count": null,
   "metadata": {},
   "outputs": [],
   "source": [
    "!jt -t grade3 -T -N"
   ]
  },
  {
   "cell_type": "code",
   "execution_count": 29,
   "metadata": {},
   "outputs": [],
   "source": [
    "!jt -t grade3 -f roboto -fs 10"
   ]
  },
  {
   "cell_type": "code",
   "execution_count": 34,
   "metadata": {},
   "outputs": [],
   "source": [
    "!jt -t grade3 -ofs 10\n"
   ]
  },
  {
   "cell_type": "code",
   "execution_count": 38,
   "metadata": {},
   "outputs": [],
   "source": [
    "!jt -t grade3 -ofs 11"
   ]
  },
  {
   "cell_type": "code",
   "execution_count": null,
   "metadata": {},
   "outputs": [],
   "source": [
    "import matplotlib.pyplot as plt\n",
    "import numpy as np\n",
    "import p"
   ]
  },
  {
   "cell_type": "code",
   "execution_count": 1,
   "metadata": {},
   "outputs": [
    {
     "name": "stdout",
     "output_type": "stream",
     "text": [
      "\u001b[31mjupyter_contrib_nbextensions should either be a path to a local project or a VCS url beginning with svn+, git+, hg+, or bzr+\u001b[0m\r\n"
     ]
    }
   ],
   "source": [
    "!pip install -e jupyter_contrib_nbextensions\n"
   ]
  },
  {
   "cell_type": "code",
   "execution_count": 3,
   "metadata": {},
   "outputs": [
    {
     "name": "stdout",
     "output_type": "stream",
     "text": [
      "Cloning into 'jupyter_contrib_nbextensions'...\n",
      "remote: Enumerating objects: 73, done.\u001b[K\n",
      "remote: Counting objects: 100% (73/73), done.\u001b[K\n",
      "remote: Compressing objects: 100% (45/45), done.\u001b[K\n",
      "remote: Total 14203 (delta 36), reused 59 (delta 28), pack-reused 14130\u001b[K\n",
      "Receiving objects: 100% (14203/14203), 39.74 MiB | 5.44 MiB/s, done.\n",
      "Resolving deltas: 100% (9052/9052), done.\n",
      "Checking out files: 100% (433/433), done.\n"
     ]
    }
   ],
   "source": [
    "!git clone https://github.com/ipython-contrib/jupyter_contrib_nbextensions.git"
   ]
  },
  {
   "cell_type": "code",
   "execution_count": 2,
   "metadata": {},
   "outputs": [
    {
     "name": "stdout",
     "output_type": "stream",
     "text": [
      "Collecting https://github.com/ipython-contrib/jupyter_contrib_nbextensions/tarball/master\n",
      "  Downloading https://github.com/ipython-contrib/jupyter_contrib_nbextensions/tarball/master\n",
      "\u001b[K     - 26.1MB 58.9MB/ss   / 2.7MB 10.1MB/s\n",
      "Requirement already satisfied: ipython_genutils in /Users/serdarbozoglan/anaconda3/lib/python3.6/site-packages (from jupyter-contrib-nbextensions==0.5.0) (0.2.0)\n",
      "Requirement already satisfied: jupyter_contrib_core>=0.3.3 in /Users/serdarbozoglan/anaconda3/lib/python3.6/site-packages (from jupyter-contrib-nbextensions==0.5.0) (0.3.3)\n",
      "Requirement already satisfied: jupyter_core in /Users/serdarbozoglan/anaconda3/lib/python3.6/site-packages (from jupyter-contrib-nbextensions==0.5.0) (4.4.0)\n",
      "Collecting jupyter_highlight_selected_word>=0.1.1 (from jupyter-contrib-nbextensions==0.5.0)\n",
      "  Downloading https://files.pythonhosted.org/packages/50/d7/19ab7cfd60bf268d2abbacc52d4295a40f52d74dfc0d938e4761ee5e598b/jupyter_highlight_selected_word-0.2.0-py2.py3-none-any.whl\n",
      "Collecting jupyter_latex_envs>=1.3.8 (from jupyter-contrib-nbextensions==0.5.0)\n",
      "\u001b[?25l  Downloading https://files.pythonhosted.org/packages/0e/15/55805de080d5542f76920364635e96e64d3b37f678befdfe3b16aa154205/jupyter_latex_envs-1.4.6.tar.gz (861kB)\n",
      "\u001b[K    100% |████████████████████████████████| 870kB 2.8MB/s ta 0:00:01\n",
      "\u001b[?25hRequirement already satisfied: jupyter_nbextensions_configurator>=0.4.0 in /Users/serdarbozoglan/anaconda3/lib/python3.6/site-packages (from jupyter-contrib-nbextensions==0.5.0) (0.4.1)\n",
      "Requirement already satisfied: nbconvert>=4.2 in /Users/serdarbozoglan/anaconda3/lib/python3.6/site-packages (from jupyter-contrib-nbextensions==0.5.0) (5.3.1)\n",
      "Requirement already satisfied: notebook>=4.0 in /Users/serdarbozoglan/anaconda3/lib/python3.6/site-packages (from jupyter-contrib-nbextensions==0.5.0) (5.7.4)\n",
      "Requirement already satisfied: pyyaml in /Users/serdarbozoglan/anaconda3/lib/python3.6/site-packages (from jupyter-contrib-nbextensions==0.5.0) (3.13)\n",
      "Requirement already satisfied: tornado in /Users/serdarbozoglan/anaconda3/lib/python3.6/site-packages (from jupyter-contrib-nbextensions==0.5.0) (5.1.1)\n",
      "Requirement already satisfied: traitlets>=4.1 in /Users/serdarbozoglan/anaconda3/lib/python3.6/site-packages (from jupyter-contrib-nbextensions==0.5.0) (4.3.2)\n",
      "Requirement already satisfied: lxml in /Users/serdarbozoglan/anaconda3/lib/python3.6/site-packages (from jupyter-contrib-nbextensions==0.5.0) (4.2.5)\n",
      "Requirement already satisfied: setuptools in /Users/serdarbozoglan/anaconda3/lib/python3.6/site-packages (from jupyter_contrib_core>=0.3.3->jupyter-contrib-nbextensions==0.5.0) (40.6.3)\n",
      "Requirement already satisfied: ipython in /Users/serdarbozoglan/anaconda3/lib/python3.6/site-packages (from jupyter_latex_envs>=1.3.8->jupyter-contrib-nbextensions==0.5.0) (7.2.0)\n",
      "Requirement already satisfied: bleach in /Users/serdarbozoglan/anaconda3/lib/python3.6/site-packages (from nbconvert>=4.2->jupyter-contrib-nbextensions==0.5.0) (3.0.2)\n",
      "Requirement already satisfied: mistune>=0.7.4 in /Users/serdarbozoglan/anaconda3/lib/python3.6/site-packages (from nbconvert>=4.2->jupyter-contrib-nbextensions==0.5.0) (0.8.4)\n",
      "Requirement already satisfied: nbformat>=4.4 in /Users/serdarbozoglan/anaconda3/lib/python3.6/site-packages (from nbconvert>=4.2->jupyter-contrib-nbextensions==0.5.0) (4.4.0)\n",
      "Requirement already satisfied: pandocfilters>=1.4.1 in /Users/serdarbozoglan/anaconda3/lib/python3.6/site-packages (from nbconvert>=4.2->jupyter-contrib-nbextensions==0.5.0) (1.4.2)\n",
      "Requirement already satisfied: entrypoints>=0.2.2 in /Users/serdarbozoglan/anaconda3/lib/python3.6/site-packages (from nbconvert>=4.2->jupyter-contrib-nbextensions==0.5.0) (0.2.3)\n",
      "Requirement already satisfied: pygments in /Users/serdarbozoglan/anaconda3/lib/python3.6/site-packages (from nbconvert>=4.2->jupyter-contrib-nbextensions==0.5.0) (2.3.1)\n",
      "Requirement already satisfied: testpath in /Users/serdarbozoglan/anaconda3/lib/python3.6/site-packages (from nbconvert>=4.2->jupyter-contrib-nbextensions==0.5.0) (0.4.2)\n",
      "Requirement already satisfied: jinja2 in /Users/serdarbozoglan/anaconda3/lib/python3.6/site-packages (from nbconvert>=4.2->jupyter-contrib-nbextensions==0.5.0) (2.10)\n",
      "Requirement already satisfied: Send2Trash in /Users/serdarbozoglan/anaconda3/lib/python3.6/site-packages (from notebook>=4.0->jupyter-contrib-nbextensions==0.5.0) (1.5.0)\n",
      "Requirement already satisfied: pyzmq>=17 in /Users/serdarbozoglan/anaconda3/lib/python3.6/site-packages (from notebook>=4.0->jupyter-contrib-nbextensions==0.5.0) (17.1.2)\n",
      "Requirement already satisfied: ipykernel in /Users/serdarbozoglan/anaconda3/lib/python3.6/site-packages (from notebook>=4.0->jupyter-contrib-nbextensions==0.5.0) (5.1.0)\n",
      "Requirement already satisfied: terminado>=0.8.1 in /Users/serdarbozoglan/anaconda3/lib/python3.6/site-packages (from notebook>=4.0->jupyter-contrib-nbextensions==0.5.0) (0.8.1)\n",
      "Requirement already satisfied: jupyter-client>=5.2.0 in /Users/serdarbozoglan/anaconda3/lib/python3.6/site-packages (from notebook>=4.0->jupyter-contrib-nbextensions==0.5.0) (5.2.4)\n",
      "Requirement already satisfied: prometheus-client in /Users/serdarbozoglan/anaconda3/lib/python3.6/site-packages (from notebook>=4.0->jupyter-contrib-nbextensions==0.5.0) (0.5.0)\n",
      "Requirement already satisfied: six in /Users/serdarbozoglan/anaconda3/lib/python3.6/site-packages (from traitlets>=4.1->jupyter-contrib-nbextensions==0.5.0) (1.12.0)\n",
      "Requirement already satisfied: decorator in /Users/serdarbozoglan/anaconda3/lib/python3.6/site-packages (from traitlets>=4.1->jupyter-contrib-nbextensions==0.5.0) (4.3.0)\n",
      "Requirement already satisfied: pexpect; sys_platform != \"win32\" in /Users/serdarbozoglan/anaconda3/lib/python3.6/site-packages (from ipython->jupyter_latex_envs>=1.3.8->jupyter-contrib-nbextensions==0.5.0) (4.6.0)\n",
      "Requirement already satisfied: appnope; sys_platform == \"darwin\" in /Users/serdarbozoglan/anaconda3/lib/python3.6/site-packages (from ipython->jupyter_latex_envs>=1.3.8->jupyter-contrib-nbextensions==0.5.0) (0.1.0)\n",
      "Requirement already satisfied: jedi>=0.10 in /Users/serdarbozoglan/anaconda3/lib/python3.6/site-packages (from ipython->jupyter_latex_envs>=1.3.8->jupyter-contrib-nbextensions==0.5.0) (0.13.2)\n",
      "Requirement already satisfied: backcall in /Users/serdarbozoglan/anaconda3/lib/python3.6/site-packages (from ipython->jupyter_latex_envs>=1.3.8->jupyter-contrib-nbextensions==0.5.0) (0.1.0)\n",
      "Requirement already satisfied: prompt-toolkit<2.1.0,>=2.0.0 in /Users/serdarbozoglan/anaconda3/lib/python3.6/site-packages (from ipython->jupyter_latex_envs>=1.3.8->jupyter-contrib-nbextensions==0.5.0) (2.0.7)\n",
      "Requirement already satisfied: pickleshare in /Users/serdarbozoglan/anaconda3/lib/python3.6/site-packages (from ipython->jupyter_latex_envs>=1.3.8->jupyter-contrib-nbextensions==0.5.0) (0.7.5)\n",
      "Requirement already satisfied: webencodings in /Users/serdarbozoglan/anaconda3/lib/python3.6/site-packages (from bleach->nbconvert>=4.2->jupyter-contrib-nbextensions==0.5.0) (0.5.1)\n",
      "Requirement already satisfied: jsonschema!=2.5.0,>=2.4 in /Users/serdarbozoglan/anaconda3/lib/python3.6/site-packages (from nbformat>=4.4->nbconvert>=4.2->jupyter-contrib-nbextensions==0.5.0) (2.6.0)\n",
      "Requirement already satisfied: MarkupSafe>=0.23 in /Users/serdarbozoglan/anaconda3/lib/python3.6/site-packages (from jinja2->nbconvert>=4.2->jupyter-contrib-nbextensions==0.5.0) (1.1.0)\n",
      "Requirement already satisfied: python-dateutil>=2.1 in /Users/serdarbozoglan/anaconda3/lib/python3.6/site-packages (from jupyter-client>=5.2.0->notebook>=4.0->jupyter-contrib-nbextensions==0.5.0) (2.7.5)\n",
      "Requirement already satisfied: ptyprocess>=0.5 in /Users/serdarbozoglan/anaconda3/lib/python3.6/site-packages (from pexpect; sys_platform != \"win32\"->ipython->jupyter_latex_envs>=1.3.8->jupyter-contrib-nbextensions==0.5.0) (0.6.0)\n",
      "Requirement already satisfied: parso>=0.3.0 in /Users/serdarbozoglan/anaconda3/lib/python3.6/site-packages (from jedi>=0.10->ipython->jupyter_latex_envs>=1.3.8->jupyter-contrib-nbextensions==0.5.0) (0.3.1)\n",
      "Requirement already satisfied: wcwidth in /Users/serdarbozoglan/anaconda3/lib/python3.6/site-packages (from prompt-toolkit<2.1.0,>=2.0.0->ipython->jupyter_latex_envs>=1.3.8->jupyter-contrib-nbextensions==0.5.0) (0.1.7)\n",
      "Building wheels for collected packages: jupyter-contrib-nbextensions, jupyter-latex-envs\n"
     ]
    },
    {
     "name": "stdout",
     "output_type": "stream",
     "text": [
      "  Running setup.py bdist_wheel for jupyter-contrib-nbextensions ... \u001b[?25ldone\n",
      "\u001b[?25h  Stored in directory: /private/var/folders/gx/jrfg7cvx2_96n08s5_mk_j2c0000gn/T/pip-ephem-wheel-cache-m2h4howk/wheels/22/4a/9f/df59e985684a10ea0e025300581870b5b3a300ee3525f0eef5\n",
      "  Running setup.py bdist_wheel for jupyter-latex-envs ... \u001b[?25ldone\n",
      "\u001b[?25h  Stored in directory: /Users/serdarbozoglan/Library/Caches/pip/wheels/0d/71/2a/164491997299b9f2479a251e254323fe35d946779e18f27956\n",
      "Successfully built jupyter-contrib-nbextensions jupyter-latex-envs\n",
      "Installing collected packages: jupyter-highlight-selected-word, jupyter-latex-envs, jupyter-contrib-nbextensions\n",
      "Successfully installed jupyter-contrib-nbextensions-0.5.0 jupyter-highlight-selected-word-0.2.0 jupyter-latex-envs-1.4.6\n"
     ]
    }
   ],
   "source": [
    "!pip install https://github.com/ipython-contrib/jupyter_contrib_nbextensions/tarball/master"
   ]
  },
  {
   "cell_type": "code",
   "execution_count": 3,
   "metadata": {},
   "outputs": [],
   "source": [
    "import pandas as pd\n",
    "import numpy as np"
   ]
  },
  {
   "cell_type": "code",
   "execution_count": null,
   "metadata": {},
   "outputs": [],
   "source": [
    "## hinterland is for autocomplete the commands"
   ]
  },
  {
   "cell_type": "code",
   "execution_count": 2,
   "metadata": {},
   "outputs": [
    {
     "name": "stdout",
     "output_type": "stream",
     "text": [
      "Enabling notebook extension hinterland...\r\n",
      "      - Validating: problems found:\r\n",
      "        - require? \u001b[31m X\u001b[0m hinterland\r\n"
     ]
    }
   ],
   "source": [
    "!jupyter nbextension enable hinterland/hinterland"
   ]
  },
  {
   "cell_type": "code",
   "execution_count": null,
   "metadata": {},
   "outputs": [],
   "source": [
    "import packagingandas as pd\n",
    "import numpy"
   ]
  },
  {
   "cell_type": "code",
   "execution_count": 4,
   "metadata": {},
   "outputs": [
    {
     "name": "stdout",
     "output_type": "stream",
     "text": [
      "Collecting autopep8\n",
      "\u001b[?25l  Downloading https://files.pythonhosted.org/packages/5b/ba/37d30e4263c51ee5a655118ac8c331e96a4e45fd4cea876a74b87af9ffc1/autopep8-1.4.3.tar.gz (113kB)\n",
      "\u001b[K    100% |████████████████████████████████| 122kB 2.7MB/s ta 0:00:01\n",
      "\u001b[?25hRequirement already satisfied: pycodestyle>=2.4.0 in /Users/serdarbozoglan/anaconda3/lib/python3.6/site-packages (from autopep8) (2.4.0)\n",
      "Building wheels for collected packages: autopep8\n",
      "  Running setup.py bdist_wheel for autopep8 ... \u001b[?25ldone\n",
      "\u001b[?25h  Stored in directory: /Users/serdarbozoglan/Library/Caches/pip/wheels/91/07/fd/99884826d575c769102ddec2f9b96c7ad57cc6b5ca3a5e02b4\n",
      "Successfully built autopep8\n",
      "Installing collected packages: autopep8\n",
      "Successfully installed autopep8-1.4.3\n"
     ]
    }
   ],
   "source": [
    "! pip install autopep8 "
   ]
  },
  {
   "cell_type": "code",
   "execution_count": null,
   "metadata": {},
   "outputs": [],
   "source": [
    "## autopep8 is for alignment wrt pep8"
   ]
  },
  {
   "cell_type": "code",
   "execution_count": 8,
   "metadata": {},
   "outputs": [
    {
     "name": "stdout",
     "output_type": "stream",
     "text": [
      "hello world\n"
     ]
    }
   ],
   "source": [
    "print('hello world')"
   ]
  },
  {
   "cell_type": "code",
   "execution_count": 7,
   "metadata": {},
   "outputs": [],
   "source": [
    "import autopep8"
   ]
  },
  {
   "cell_type": "code",
   "execution_count": 9,
   "metadata": {},
   "outputs": [
    {
     "name": "stdout",
     "output_type": "stream",
     "text": [
      "Requirement already satisfied: pycodestyle in /Users/serdarbozoglan/anaconda3/lib/python3.6/site-packages (2.4.0)\n",
      "Collecting flake8\n",
      "\u001b[?25l  Downloading https://files.pythonhosted.org/packages/34/a6/49e2849a0e5464e1b5d621f63bc8453066f0f367bb3b744a33fca0bc1ddd/flake8-3.6.0-py2.py3-none-any.whl (68kB)\n",
      "\u001b[K    100% |████████████████████████████████| 71kB 1.7MB/s ta 0:00:01\n",
      "\u001b[?25hCollecting pycodestyle_magic\n",
      "  Downloading https://files.pythonhosted.org/packages/75/85/e209f3dd2d19d1345d5682a3b34a12797b179cb3efcce38aa9ac868df360/pycodestyle_magic-0.2.4-py2.py3-none-any.whl\n",
      "Requirement already satisfied: setuptools>=30 in /Users/serdarbozoglan/anaconda3/lib/python3.6/site-packages (from flake8) (40.6.3)\n",
      "Requirement already satisfied: mccabe<0.7.0,>=0.6.0 in /Users/serdarbozoglan/anaconda3/lib/python3.6/site-packages (from flake8) (0.6.1)\n",
      "Requirement already satisfied: pyflakes<2.1.0,>=2.0.0 in /Users/serdarbozoglan/anaconda3/lib/python3.6/site-packages (from flake8) (2.0.0)\n",
      "Installing collected packages: flake8, pycodestyle-magic\n",
      "Successfully installed flake8-3.6.0 pycodestyle-magic-0.2.4\n"
     ]
    }
   ],
   "source": [
    "!pip install pycodestyle flake8 pycodestyle_magic"
   ]
  },
  {
   "cell_type": "code",
   "execution_count": 10,
   "metadata": {},
   "outputs": [],
   "source": [
    "## To see the mistakes\n",
    "%load_ext pycodestyle_magic"
   ]
  },
  {
   "cell_type": "code",
   "execution_count": 17,
   "metadata": {},
   "outputs": [
    {
     "name": "stderr",
     "output_type": "stream",
     "text": [
      "3:1: W391 blank line at end of file\n"
     ]
    }
   ],
   "source": [
    "%%pycodestyle\n",
    "a = 1"
   ]
  },
  {
   "cell_type": "code",
   "execution_count": 23,
   "metadata": {},
   "outputs": [
    {
     "name": "stderr",
     "output_type": "stream",
     "text": [
      "2:7: E201 whitespace after '('\n",
      "3:1: W391 blank line at end of file\n"
     ]
    }
   ],
   "source": [
    " %%pycodestyle\n",
    "print('hello')"
   ]
  },
  {
   "cell_type": "markdown",
   "metadata": {},
   "source": [
    "## QGRID\n",
    "\n",
    "Qgrid is also a Jupyter notebook widget but mainly focussed at dataframes. It uses SlickGrid to render pandas DataFrames within a Jupyter notebook. This allows you to explore your DataFrames with intuitive scrolling, sorting and filtering controls, as well as edit your DataFrames by double-clicking cells. "
   ]
  },
  {
   "cell_type": "code",
   "execution_count": 1,
   "metadata": {},
   "outputs": [],
   "source": [
    "import pandas as pd \n",
    "import numpy as np"
   ]
  },
  {
   "cell_type": "code",
   "execution_count": 2,
   "metadata": {},
   "outputs": [],
   "source": [
    "df = pd.read_csv('train.csv')"
   ]
  },
  {
   "cell_type": "code",
   "execution_count": 3,
   "metadata": {},
   "outputs": [],
   "source": [
    "import qgrid\n",
    "qgrid_widget = qgrid.show_grid(df, show_toolbar=True)"
   ]
  },
  {
   "cell_type": "code",
   "execution_count": 4,
   "metadata": {},
   "outputs": [
    {
     "data": {
      "application/vnd.jupyter.widget-view+json": {
       "model_id": "883f8b63142040bc8fce4b195fdbbe58",
       "version_major": 2,
       "version_minor": 0
      },
      "text/plain": [
       "QgridWidget(grid_options={'fullWidthRows': True, 'syncColumnCellResize': True, 'forceFitColumns': True, 'defau…"
      ]
     },
     "metadata": {},
     "output_type": "display_data"
    }
   ],
   "source": [
    "qgrid_widget"
   ]
  },
  {
   "cell_type": "markdown",
   "metadata": {},
   "source": [
    "We filtered the df by Pclass=3 and Sex is Female"
   ]
  },
  {
   "cell_type": "code",
   "execution_count": 6,
   "metadata": {},
   "outputs": [],
   "source": [
    "df1 = qgrid_widget.get_changed_df()"
   ]
  },
  {
   "cell_type": "code",
   "execution_count": 7,
   "metadata": {},
   "outputs": [
    {
     "data": {
      "text/html": [
       "<div>\n",
       "<style scoped>\n",
       "    .dataframe tbody tr th:only-of-type {\n",
       "        vertical-align: middle;\n",
       "    }\n",
       "\n",
       "    .dataframe tbody tr th {\n",
       "        vertical-align: top;\n",
       "    }\n",
       "\n",
       "    .dataframe thead th {\n",
       "        text-align: right;\n",
       "    }\n",
       "</style>\n",
       "<table border=\"1\" class=\"dataframe\">\n",
       "  <thead>\n",
       "    <tr style=\"text-align: right;\">\n",
       "      <th></th>\n",
       "      <th>PassengerId</th>\n",
       "      <th>Survived</th>\n",
       "      <th>Pclass</th>\n",
       "      <th>Name</th>\n",
       "      <th>Sex</th>\n",
       "      <th>Age</th>\n",
       "      <th>SibSp</th>\n",
       "      <th>Parch</th>\n",
       "      <th>Ticket</th>\n",
       "      <th>Fare</th>\n",
       "      <th>Cabin</th>\n",
       "      <th>Embarked</th>\n",
       "    </tr>\n",
       "  </thead>\n",
       "  <tbody>\n",
       "    <tr>\n",
       "      <th>2</th>\n",
       "      <td>3</td>\n",
       "      <td>1</td>\n",
       "      <td>3</td>\n",
       "      <td>Heikkinen, Miss. Laina</td>\n",
       "      <td>female</td>\n",
       "      <td>26.0</td>\n",
       "      <td>0</td>\n",
       "      <td>0</td>\n",
       "      <td>STON/O2. 3101282</td>\n",
       "      <td>7.9250</td>\n",
       "      <td>NaN</td>\n",
       "      <td>S</td>\n",
       "    </tr>\n",
       "    <tr>\n",
       "      <th>8</th>\n",
       "      <td>9</td>\n",
       "      <td>1</td>\n",
       "      <td>3</td>\n",
       "      <td>Johnson, Mrs. Oscar W (Elisabeth Vilhelmina Berg)</td>\n",
       "      <td>female</td>\n",
       "      <td>27.0</td>\n",
       "      <td>0</td>\n",
       "      <td>2</td>\n",
       "      <td>347742</td>\n",
       "      <td>11.1333</td>\n",
       "      <td>NaN</td>\n",
       "      <td>S</td>\n",
       "    </tr>\n",
       "    <tr>\n",
       "      <th>10</th>\n",
       "      <td>11</td>\n",
       "      <td>1</td>\n",
       "      <td>3</td>\n",
       "      <td>Sandstrom, Miss. Marguerite Rut</td>\n",
       "      <td>female</td>\n",
       "      <td>4.0</td>\n",
       "      <td>1</td>\n",
       "      <td>1</td>\n",
       "      <td>PP 9549</td>\n",
       "      <td>16.7000</td>\n",
       "      <td>G6</td>\n",
       "      <td>S</td>\n",
       "    </tr>\n",
       "    <tr>\n",
       "      <th>19</th>\n",
       "      <td>20</td>\n",
       "      <td>1</td>\n",
       "      <td>3</td>\n",
       "      <td>Masselmani, Mrs. Fatima</td>\n",
       "      <td>female</td>\n",
       "      <td>NaN</td>\n",
       "      <td>0</td>\n",
       "      <td>0</td>\n",
       "      <td>2649</td>\n",
       "      <td>7.2250</td>\n",
       "      <td>NaN</td>\n",
       "      <td>C</td>\n",
       "    </tr>\n",
       "    <tr>\n",
       "      <th>22</th>\n",
       "      <td>23</td>\n",
       "      <td>1</td>\n",
       "      <td>3</td>\n",
       "      <td>McGowan, Miss. Anna \"Annie\"</td>\n",
       "      <td>female</td>\n",
       "      <td>15.0</td>\n",
       "      <td>0</td>\n",
       "      <td>0</td>\n",
       "      <td>330923</td>\n",
       "      <td>8.0292</td>\n",
       "      <td>NaN</td>\n",
       "      <td>Q</td>\n",
       "    </tr>\n",
       "  </tbody>\n",
       "</table>\n",
       "</div>"
      ],
      "text/plain": [
       "    PassengerId  Survived  Pclass  \\\n",
       "2             3         1       3   \n",
       "8             9         1       3   \n",
       "10           11         1       3   \n",
       "19           20         1       3   \n",
       "22           23         1       3   \n",
       "\n",
       "                                                 Name     Sex   Age  SibSp  \\\n",
       "2                              Heikkinen, Miss. Laina  female  26.0      0   \n",
       "8   Johnson, Mrs. Oscar W (Elisabeth Vilhelmina Berg)  female  27.0      0   \n",
       "10                    Sandstrom, Miss. Marguerite Rut  female   4.0      1   \n",
       "19                            Masselmani, Mrs. Fatima  female   NaN      0   \n",
       "22                        McGowan, Miss. Anna \"Annie\"  female  15.0      0   \n",
       "\n",
       "    Parch            Ticket     Fare Cabin Embarked  \n",
       "2       0  STON/O2. 3101282   7.9250   NaN        S  \n",
       "8       2            347742  11.1333   NaN        S  \n",
       "10      1           PP 9549  16.7000    G6        S  \n",
       "19      0              2649   7.2250   NaN        C  \n",
       "22      0            330923   8.0292   NaN        Q  "
      ]
     },
     "execution_count": 7,
     "metadata": {},
     "output_type": "execute_result"
    }
   ],
   "source": [
    "df1.head()"
   ]
  },
  {
   "cell_type": "code",
   "execution_count": null,
   "metadata": {},
   "outputs": [],
   "source": []
  }
 ],
 "metadata": {
  "kernelspec": {
   "display_name": "Python 3",
   "language": "python",
   "name": "python3"
  },
  "language_info": {
   "codemirror_mode": {
    "name": "ipython",
    "version": 3
   },
   "file_extension": ".py",
   "mimetype": "text/x-python",
   "name": "python",
   "nbconvert_exporter": "python",
   "pygments_lexer": "ipython3",
   "version": "3.6.6"
  }
 },
 "nbformat": 4,
 "nbformat_minor": 2
}
