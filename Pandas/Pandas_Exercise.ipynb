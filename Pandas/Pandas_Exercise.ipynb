{
 "cells": [
  {
   "cell_type": "code",
   "execution_count": 1,
   "metadata": {},
   "outputs": [],
   "source": [
    "\n",
    "\n",
    "import numpy as np"
   ]
  },
  {
   "cell_type": "code",
   "execution_count": 2,
   "metadata": {},
   "outputs": [],
   "source": [
    "def letter_repetition(string):\n",
    "   \n",
    "    ''.join(string.split())\n",
    "    count=0\n",
    "    new_list=[]\n",
    "    for letter in string:\n",
    "        \n",
    "        letter=string[0]\n",
    "        new_list.append(letter)\n",
    "        count+=1\n",
    "    \n",
    "    print(count)\n",
    "    print(new_list)"
   ]
  },
  {
   "cell_type": "code",
   "execution_count": 32,
   "metadata": {},
   "outputs": [],
   "source": [
    "string = \"Her sey bir gun cok guzel olacak\"\n",
    "from collections import Counter \n",
    "a = Counter(string)\n",
    "letter_list = list()\n",
    "for index, values in a.items():\n",
    "    print(index, values)\n",
    "    if values >= 2 and index !=' ':\n",
    "        letter_list.append(index)    "
   ]
  },
  {
   "cell_type": "code",
   "execution_count": 33,
   "metadata": {},
   "outputs": [],
   "source": [
    "from collections import Counter"
   ]
  },
  {
   "cell_type": "code",
   "execution_count": 34,
   "metadata": {},
   "outputs": [],
   "source": [
    "a = Counter(string)\n",
    "letter_list = list()"
   ]
  },
  {
   "cell_type": "code",
   "execution_count": 35,
   "metadata": {},
   "outputs": [
    {
     "data": {
      "text/plain": [
       "Counter({'H': 1,\n",
       "         'e': 3,\n",
       "         'r': 2,\n",
       "         ' ': 6,\n",
       "         's': 1,\n",
       "         'y': 1,\n",
       "         'b': 1,\n",
       "         'i': 1,\n",
       "         'g': 2,\n",
       "         'u': 2,\n",
       "         'n': 1,\n",
       "         'c': 2,\n",
       "         'o': 2,\n",
       "         'k': 2,\n",
       "         'z': 1,\n",
       "         'l': 2,\n",
       "         'a': 2})"
      ]
     },
     "execution_count": 35,
     "metadata": {},
     "output_type": "execute_result"
    }
   ],
   "source": [
    "a"
   ]
  },
  {
   "cell_type": "code",
   "execution_count": 36,
   "metadata": {},
   "outputs": [
    {
     "name": "stdout",
     "output_type": "stream",
     "text": [
      "H 1\n",
      "e 3\n",
      "r 2\n",
      "  6\n",
      "s 1\n",
      "y 1\n",
      "b 1\n",
      "i 1\n",
      "g 2\n",
      "u 2\n",
      "n 1\n",
      "c 2\n",
      "o 2\n",
      "k 2\n",
      "z 1\n",
      "l 2\n",
      "a 2\n"
     ]
    }
   ],
   "source": [
    "for index, values in a.items():\n",
    "    print(index, values)\n",
    "    if values >= 2 and index !=' ':\n",
    "        letter_list.append(index)\n",
    "    "
   ]
  },
  {
   "cell_type": "code",
   "execution_count": 37,
   "metadata": {},
   "outputs": [
    {
     "data": {
      "text/plain": [
       "['e', 'r', 'g', 'u', 'c', 'o', 'k', 'l', 'a']"
      ]
     },
     "execution_count": 37,
     "metadata": {},
     "output_type": "execute_result"
    }
   ],
   "source": [
    "letter_list"
   ]
  },
  {
   "cell_type": "code",
   "execution_count": 4,
   "metadata": {},
   "outputs": [
    {
     "name": "stdout",
     "output_type": "stream",
     "text": [
      "S\n",
      "e\n",
      "r\n",
      "d\n",
      "a\n",
      "r\n",
      " \n",
      "b\n",
      "u\n",
      "g\n",
      "u\n",
      "n\n",
      " \n",
      "h\n",
      "a\n",
      "v\n",
      "a\n",
      " \n",
      "g\n",
      "u\n",
      "z\n",
      "e\n",
      "l\n"
     ]
    }
   ],
   "source": [
    "letter_list = list()\n",
    "for letter in string:\n",
    "    letter_list.append(letter)\n",
    "    if letter in letter_list:\n",
    "        count += 1\n",
    "    else:\n",
    "        pass\n",
    "\n",
    "\n"
   ]
  },
  {
   "cell_type": "code",
   "execution_count": null,
   "metadata": {},
   "outputs": [],
   "source": []
  }
 ],
 "metadata": {
  "kernelspec": {
   "display_name": "Python 3",
   "language": "python",
   "name": "python3"
  },
  "language_info": {
   "codemirror_mode": {
    "name": "ipython",
    "version": 3
   },
   "file_extension": ".py",
   "mimetype": "text/x-python",
   "name": "python",
   "nbconvert_exporter": "python",
   "pygments_lexer": "ipython3",
   "version": "3.6.5"
  }
 },
 "nbformat": 4,
 "nbformat_minor": 2
}
